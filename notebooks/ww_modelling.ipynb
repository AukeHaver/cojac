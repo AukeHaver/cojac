{
 "cells": [
  {
   "cell_type": "code",
   "execution_count": 1,
   "metadata": {},
   "outputs": [],
   "source": [
    "import numpy as np\n",
    "import pandas as pd\n",
    "import scipy as sp\n",
    "\n",
    "import seaborn as sns\n",
    "import matplotlib.pyplot as plt\n",
    "\n",
    "from natsort import natsort_keygen\n",
    "\n",
    "import statsmodels.api as sm\n",
    "import scipy as sp\n",
    "\n",
    "import rpy2.rinterface\n",
    "import os\n",
    "\n",
    "from statsmodels.stats.proportion import proportion_confint\n",
    "\n",
    "# Need to specify your R lib here\n",
    "os.environ['R_HOME'] = '/Users/gneiss/miniconda3/envs/rpy2/lib/R'"
   ]
  },
  {
   "cell_type": "code",
   "execution_count": 2,
   "metadata": {},
   "outputs": [
    {
     "name": "stderr",
     "output_type": "stream",
     "text": [
      "/Users/gneiss/miniconda3/envs/rpy2/lib/python3.7/site-packages/rpy2/robjects/pandas2ri.py:17: FutureWarning: pandas.core.index is deprecated and will be removed in a future version.  The public classes are available in the top-level namespace.\n",
      "  from pandas.core.index import Index as PandasIndex\n"
     ]
    }
   ],
   "source": [
    "%load_ext rpy2.ipython"
   ]
  },
  {
   "cell_type": "code",
   "execution_count": 3,
   "metadata": {},
   "outputs": [],
   "source": [
    "%%R\n",
    "Sys.setenv(LANG = \"en\")"
   ]
  },
  {
   "cell_type": "markdown",
   "metadata": {},
   "source": [
    "# Load WWTP data"
   ]
  },
  {
   "cell_type": "code",
   "execution_count": 4,
   "metadata": {},
   "outputs": [],
   "source": [
    "df = pd.read_csv('Data/tallymut_line_snv4.tsv', sep='\\t', parse_dates=['date'])\n",
    "\n",
    "df['mutation'] = df['pos'].astype(str) + df['base']\n",
    "\n",
    "df_wide = (\n",
    "    df[(~df['plantname'].isna()) & (df['date'] >= '2020-12-08') & (df['base'] != '-') & (df['B.1.1.7'] == \"mut\")]\n",
    "    .pivot(index=['plantname', 'date', 'batch'], columns=['mutation'], values='frac')\n",
    "    .sort_index(axis=1, key=natsort_keygen())\n",
    ")\n",
    "\n",
    "df_wide_cov = (\n",
    "    df[(~df['plantname'].isna()) & (df['date'] >= '2020-12-08') & (df['base'] != '-') & (df['B.1.1.7'] == \"mut\")]\n",
    "    .pivot(index=['plantname', 'date', 'batch'], columns=['mutation'], values='cov')\n",
    "    .sort_index(axis=1, key=natsort_keygen())\n",
    ")\n",
    "\n",
    "df_wide_counts = (\n",
    "    df[(~df['plantname'].isna()) & (df['date'] >= '2020-12-08') & (df['base'] != '-') & (df['B.1.1.7'] == \"mut\")]\n",
    "    .pivot(index=['plantname', 'date', 'batch'], columns=['mutation'], values='var')\n",
    "    .sort_index(axis=1, key=natsort_keygen())\n",
    ")"
   ]
  },
  {
   "cell_type": "markdown",
   "metadata": {},
   "source": [
    "## Make counts wide df"
   ]
  },
  {
   "cell_type": "code",
   "execution_count": 5,
   "metadata": {},
   "outputs": [],
   "source": [
    "ZHdf_cov = df_wide_cov.loc['Zürich (ZH)'].dropna(axis=1, how='all').T  # .loc[28111:28111]\n",
    "ZHdf_cov = ZHdf_cov.T.groupby(\"date\").agg(\"mean\").asfreq('D').T\n",
    "\n",
    "ZHdf_counts = df_wide_counts.loc['Zürich (ZH)'].dropna(axis=1, how='all').T  # .loc[28111:28111]\n",
    "ZHdf_counts = ZHdf_counts.T.groupby(\"date\").agg(\"mean\").asfreq('D').T\n",
    "\n",
    "VDdf_cov = df_wide_cov.loc['Lausanne (VD)'].dropna(axis=1, how='all').T  # .loc[28111:28111]\n",
    "VDdf_cov = VDdf_cov.T.groupby(\"date\").agg(\"mean\").asfreq('D').T\n",
    "\n",
    "VDdf_counts = df_wide_counts.loc['Lausanne (VD)'].dropna(axis=1, how='all').T  # .loc[28111:28111]\n",
    "VDdf_counts = VDdf_counts.T.groupby(\"date\").agg(\"mean\").asfreq('D').T"
   ]
  },
  {
   "cell_type": "markdown",
   "metadata": {},
   "source": [
    "## Load cantonal viollier data and aggregate by week"
   ]
  },
  {
   "cell_type": "code",
   "execution_count": 6,
   "metadata": {},
   "outputs": [],
   "source": [
    "viollier2 = pd.read_csv(\"Data/data_per_day_and_canton2.csv\")\n",
    "viollier2[\"date\"] = pd.DatetimeIndex(viollier2[\"date\"])\n",
    "viollier2[\"week\"] = viollier2.date.dt.strftime('%W')\n",
    "viollier2[\"year\"] = viollier2.date.dt.strftime('%Y')\n",
    "viollier2[\"date_week\"] = pd.to_datetime(viollier2[\"year\"].astype(str), format='%Y') +\\\n",
    "    pd.to_timedelta(((viollier2[\"week\"].astype(\"int\")-1).mul(7)+3-7).astype(str) + ' days')\n",
    "\n",
    "viollier2_sum = viollier2.groupby([\"date_week\", \"canton\"], as_index=False).agg(\"sum\")\n",
    "viollier2_sum[\"frac_b117\"] = viollier2_sum[\"b117\"] / viollier2_sum[\"sequenced\"]\n",
    "viollier2_sum[\"p_pseudo\"] = (viollier2_sum[\"b117\"] + 1) / (viollier2_sum[\"sequenced\"] + 2)\n",
    "viollier2_sum[\"error\"] = 1.96*np.sqrt(viollier2_sum[\"p_pseudo\"]*(1-viollier2_sum[\"p_pseudo\"])/(viollier2_sum[\"sequenced\"]+2))"
   ]
  },
  {
   "cell_type": "code",
   "execution_count": 7,
   "metadata": {},
   "outputs": [],
   "source": [
    "gisaid_data = pd.read_csv(\"data/gisaid_seq_2021_05_04.csv\")\n",
    "gisaid_data = gisaid_data[gisaid_data.originating_lab == \"Viollier AG\"]\n",
    "gisaid_data[\"b117\"] = (gisaid_data.pangolin_lineage == \"B.1.1.7\")\n",
    "\n",
    "gisaid_data_agg = pd.concat([gisaid_data[[\"date\", \"division\", \"pangolin_lineage\"]].groupby([\"date\", \"division\"]).agg(\"count\"),\n",
    "           gisaid_data[[\"date\", \"division\", \"b117\"]].groupby([\"date\", \"division\"]).agg(\"sum\")],\n",
    "          axis=1)\n",
    "gisaid_data_agg = gisaid_data_agg.reset_index()\n",
    "\n",
    "gisaid_data_agg[\"date\"] = pd.DatetimeIndex(gisaid_data_agg[\"date\"])\n",
    "gisaid_data_agg[\"week\"] = gisaid_data_agg.date.dt.strftime('%W')\n",
    "gisaid_data_agg[\"year\"] = gisaid_data_agg.date.dt.strftime('%Y')\n",
    "gisaid_data_agg[\"date_week\"] = pd.to_datetime(gisaid_data_agg[\"year\"].astype(str), format='%Y') +\\\n",
    "    pd.to_timedelta(((gisaid_data_agg[\"week\"].astype(\"int\")-1).mul(7)+3-7).astype(str) + ' days')"
   ]
  },
  {
   "cell_type": "code",
   "execution_count": 8,
   "metadata": {},
   "outputs": [],
   "source": [
    "canton_names = {\n",
    "\"Zürich\" : \"ZH\",\n",
    "\"Bern\" : \"BE\", \n",
    "\"Lucerne\" : \"LU\",\n",
    "\"Uri\" : \"UR\",\n",
    "\"Schwyz\" : \"SZ\",\n",
    "\"Obwalden\" : \"OW\",\n",
    "\"Nidwalden\" : \"NW\",\n",
    "\"Glarus\" : \"GL\",\n",
    "\"Zug\" : \"ZG\",\n",
    "\"Fribourg\" : \"FR\",\n",
    "\"Solothurn\" : \"SO\",\n",
    "\"Basel-Stadt\" : \"BS\",\n",
    "\"Basel-Land\" : \"BL\",\n",
    "\"Schaffhausen\" : \"SH\",\n",
    "\"Appenzell Ausserrhoden\" : \"AR\",\n",
    "\"Appenzell Innerrhoden\" : \"AI\",\n",
    "\"Sankt Gallen\" : \"SG\",\n",
    "\"Graubünden\" : \"GR\",\n",
    "\"Aargau\" : \"AG\",\n",
    "\"Thurgau\" : \"TG\",\n",
    "\"Ticino\" : \"TI\",\n",
    "\"Vaud\" : \"VD\",\n",
    "\"Valais\" : \"VS\",\n",
    "\"Neuchâtel\" : \"NE\",\n",
    "\"Geneva\" : \"GE\",\n",
    "\"Jura\" : \"JU\"\n",
    "}"
   ]
  },
  {
   "cell_type": "code",
   "execution_count": 9,
   "metadata": {},
   "outputs": [
    {
     "data": {
      "text/html": [
       "<div>\n",
       "<style scoped>\n",
       "    .dataframe tbody tr th:only-of-type {\n",
       "        vertical-align: middle;\n",
       "    }\n",
       "\n",
       "    .dataframe tbody tr th {\n",
       "        vertical-align: top;\n",
       "    }\n",
       "\n",
       "    .dataframe thead th {\n",
       "        text-align: right;\n",
       "    }\n",
       "</style>\n",
       "<table border=\"1\" class=\"dataframe\">\n",
       "  <thead>\n",
       "    <tr style=\"text-align: right;\">\n",
       "      <th></th>\n",
       "      <th>date</th>\n",
       "      <th>division</th>\n",
       "      <th>sequenced</th>\n",
       "      <th>b117</th>\n",
       "      <th>week</th>\n",
       "      <th>year</th>\n",
       "      <th>date_week</th>\n",
       "      <th>canton</th>\n",
       "    </tr>\n",
       "  </thead>\n",
       "  <tbody>\n",
       "    <tr>\n",
       "      <th>0</th>\n",
       "      <td>2020-03-04</td>\n",
       "      <td>Graubünden</td>\n",
       "      <td>1</td>\n",
       "      <td>0</td>\n",
       "      <td>09</td>\n",
       "      <td>2020</td>\n",
       "      <td>2020-02-22</td>\n",
       "      <td>GR</td>\n",
       "    </tr>\n",
       "    <tr>\n",
       "      <th>1</th>\n",
       "      <td>2020-03-04</td>\n",
       "      <td>Ticino</td>\n",
       "      <td>1</td>\n",
       "      <td>0</td>\n",
       "      <td>09</td>\n",
       "      <td>2020</td>\n",
       "      <td>2020-02-22</td>\n",
       "      <td>TI</td>\n",
       "    </tr>\n",
       "    <tr>\n",
       "      <th>2</th>\n",
       "      <td>2020-03-05</td>\n",
       "      <td>Basel-Land</td>\n",
       "      <td>2</td>\n",
       "      <td>0</td>\n",
       "      <td>09</td>\n",
       "      <td>2020</td>\n",
       "      <td>2020-02-22</td>\n",
       "      <td>BL</td>\n",
       "    </tr>\n",
       "    <tr>\n",
       "      <th>3</th>\n",
       "      <td>2020-03-05</td>\n",
       "      <td>Basel-Stadt</td>\n",
       "      <td>1</td>\n",
       "      <td>0</td>\n",
       "      <td>09</td>\n",
       "      <td>2020</td>\n",
       "      <td>2020-02-22</td>\n",
       "      <td>BS</td>\n",
       "    </tr>\n",
       "    <tr>\n",
       "      <th>4</th>\n",
       "      <td>2020-03-05</td>\n",
       "      <td>Graubünden</td>\n",
       "      <td>2</td>\n",
       "      <td>0</td>\n",
       "      <td>09</td>\n",
       "      <td>2020</td>\n",
       "      <td>2020-02-22</td>\n",
       "      <td>GR</td>\n",
       "    </tr>\n",
       "    <tr>\n",
       "      <th>...</th>\n",
       "      <td>...</td>\n",
       "      <td>...</td>\n",
       "      <td>...</td>\n",
       "      <td>...</td>\n",
       "      <td>...</td>\n",
       "      <td>...</td>\n",
       "      <td>...</td>\n",
       "      <td>...</td>\n",
       "    </tr>\n",
       "    <tr>\n",
       "      <th>3256</th>\n",
       "      <td>2021-04-15</td>\n",
       "      <td>Thurgau</td>\n",
       "      <td>1</td>\n",
       "      <td>1</td>\n",
       "      <td>15</td>\n",
       "      <td>2021</td>\n",
       "      <td>2021-04-05</td>\n",
       "      <td>TG</td>\n",
       "    </tr>\n",
       "    <tr>\n",
       "      <th>3257</th>\n",
       "      <td>2021-04-15</td>\n",
       "      <td>Valais</td>\n",
       "      <td>3</td>\n",
       "      <td>3</td>\n",
       "      <td>15</td>\n",
       "      <td>2021</td>\n",
       "      <td>2021-04-05</td>\n",
       "      <td>VS</td>\n",
       "    </tr>\n",
       "    <tr>\n",
       "      <th>3258</th>\n",
       "      <td>2021-04-15</td>\n",
       "      <td>Vaud</td>\n",
       "      <td>2</td>\n",
       "      <td>2</td>\n",
       "      <td>15</td>\n",
       "      <td>2021</td>\n",
       "      <td>2021-04-05</td>\n",
       "      <td>VD</td>\n",
       "    </tr>\n",
       "    <tr>\n",
       "      <th>3259</th>\n",
       "      <td>2021-04-15</td>\n",
       "      <td>Zug</td>\n",
       "      <td>1</td>\n",
       "      <td>1</td>\n",
       "      <td>15</td>\n",
       "      <td>2021</td>\n",
       "      <td>2021-04-05</td>\n",
       "      <td>ZG</td>\n",
       "    </tr>\n",
       "    <tr>\n",
       "      <th>3260</th>\n",
       "      <td>2021-04-15</td>\n",
       "      <td>Zürich</td>\n",
       "      <td>22</td>\n",
       "      <td>18</td>\n",
       "      <td>15</td>\n",
       "      <td>2021</td>\n",
       "      <td>2021-04-05</td>\n",
       "      <td>ZH</td>\n",
       "    </tr>\n",
       "  </tbody>\n",
       "</table>\n",
       "<p>3216 rows × 8 columns</p>\n",
       "</div>"
      ],
      "text/plain": [
       "           date     division  sequenced  b117 week  year  date_week canton\n",
       "0    2020-03-04   Graubünden          1     0   09  2020 2020-02-22     GR\n",
       "1    2020-03-04       Ticino          1     0   09  2020 2020-02-22     TI\n",
       "2    2020-03-05   Basel-Land          2     0   09  2020 2020-02-22     BL\n",
       "3    2020-03-05  Basel-Stadt          1     0   09  2020 2020-02-22     BS\n",
       "4    2020-03-05   Graubünden          2     0   09  2020 2020-02-22     GR\n",
       "...         ...          ...        ...   ...  ...   ...        ...    ...\n",
       "3256 2021-04-15      Thurgau          1     1   15  2021 2021-04-05     TG\n",
       "3257 2021-04-15       Valais          3     3   15  2021 2021-04-05     VS\n",
       "3258 2021-04-15         Vaud          2     2   15  2021 2021-04-05     VD\n",
       "3259 2021-04-15          Zug          1     1   15  2021 2021-04-05     ZG\n",
       "3260 2021-04-15       Zürich         22    18   15  2021 2021-04-05     ZH\n",
       "\n",
       "[3216 rows x 8 columns]"
      ]
     },
     "execution_count": 9,
     "metadata": {},
     "output_type": "execute_result"
    }
   ],
   "source": [
    "gisaid_data_agg = gisaid_data_agg[gisaid_data_agg.division != \"Switzerland\"]\n",
    "gisaid_data_agg[\"canton\"] = gisaid_data_agg[\"division\"].apply(lambda x: canton_names[x])\n",
    "gisaid_data_agg = gisaid_data_agg.rename({\"pangolin_lineage\" : \"sequenced\"}, axis=1)\n",
    "gisaid_data_agg"
   ]
  },
  {
   "cell_type": "code",
   "execution_count": 10,
   "metadata": {},
   "outputs": [],
   "source": [
    "viollier2 = gisaid_data_agg"
   ]
  },
  {
   "cell_type": "markdown",
   "metadata": {},
   "source": [
    "## Prepare data"
   ]
  },
  {
   "cell_type": "markdown",
   "metadata": {},
   "source": [
    "###  ZH wastewater"
   ]
  },
  {
   "cell_type": "code",
   "execution_count": 11,
   "metadata": {},
   "outputs": [],
   "source": [
    "ZHyy_ww = np.array([ZHdf_counts.sum(axis=0).values, (ZHdf_cov.sum(axis=0) - ZHdf_counts.sum(axis=0)).values]).T\n",
    "ZHxx_ww = (ZHdf_cov.T.index - np.datetime64('2020-12-14')) / np.timedelta64(1, 'D')\n",
    "ZHxx_ww = sm.add_constant(ZHxx_ww)\n",
    "\n",
    "ZHxx_ww = ZHxx_ww[np.sum(ZHyy_ww, 1) != 0, :] #remove timepoints with 0 observations\n",
    "ZHyy_ww = ZHyy_ww[np.sum(ZHyy_ww, 1) != 0, :]\n"
   ]
  },
  {
   "cell_type": "markdown",
   "metadata": {},
   "source": [
    "###  ZH clinical"
   ]
  },
  {
   "cell_type": "code",
   "execution_count": 12,
   "metadata": {},
   "outputs": [],
   "source": [
    "viollier2[\"wt\"] = viollier2[\"sequenced\"] - viollier2[\"b117\"]\n",
    "\n",
    "ZHyy_clinical = viollier2[(viollier2[\"canton\"] == \"ZH\") & (viollier2[\"date\"].isin(ZHdf_cov.T.index))][[\"b117\", \"wt\"]].values\n",
    "\n",
    "ZHxx_clinical = (viollier2[(viollier2[\"canton\"] == \"ZH\") & (viollier2[\"date\"].isin(ZHdf_cov.T.index))].date - np.datetime64('2020-12-14')) / np.timedelta64(1, 'D')\n",
    "ZHxx_clinical = sm.add_constant(ZHxx_clinical).values\n",
    "\n",
    "# ZHxx_clinical = ZHxx_clinical[np.sum(ZHyy_clinical, 1) != 0,:] #remove timepoints with 0 observations\n",
    "# ZHyy_clinical = ZHyy_clinical[np.sum(ZHyy_clinical, 1) != 0,:]\n"
   ]
  },
  {
   "cell_type": "markdown",
   "metadata": {},
   "source": [
    "###  VD wastewater"
   ]
  },
  {
   "cell_type": "code",
   "execution_count": 13,
   "metadata": {},
   "outputs": [],
   "source": [
    "VDyy_ww = np.array([VDdf_counts.sum(axis=0).values, (VDdf_cov.sum(axis=0) - VDdf_counts.sum(axis=0)).values]).T\n",
    "VDxx_ww = (VDdf_cov.T.index - np.datetime64('2020-12-14')) / np.timedelta64(1, 'D')\n",
    "VDxx_ww = sm.add_constant(VDxx_ww)\n",
    "\n",
    "VDxx_ww = VDxx_ww[np.sum(VDyy_ww, 1) != 0, :] #remove timepoints with 0 observations\n",
    "VDyy_ww = VDyy_ww[np.sum(VDyy_ww, 1) != 0, :]"
   ]
  },
  {
   "cell_type": "markdown",
   "metadata": {},
   "source": [
    "### Model VD clinical"
   ]
  },
  {
   "cell_type": "code",
   "execution_count": null,
   "metadata": {},
   "outputs": [],
   "source": [
    "viollier2[\"wt\"] = viollier2[\"sequenced\"] - viollier2[\"b117\"]\n",
    "\n",
    "VDyy_clinical = viollier2[(viollier2[\"canton\"] == \"VD\") & (viollier2[\"date\"].isin(VDdf_cov.T.index))][[\"b117\", \"wt\"]].values\n",
    "\n",
    "VDxx_clinical = (viollier2[(viollier2[\"canton\"] == \"VD\") & (viollier2[\"date\"].isin(VDdf_cov.T.index))].date - np.datetime64('2020-12-14')) / np.timedelta64(1, 'D')\n",
    "VDxx_clinical = sm.add_constant(VDxx_clinical).values\n",
    "\n",
    "# VDxx_clinical = VDxx_clinical[np.sum(VDyy_clinical, 1) != 0,:] #remove timepoints with 0 observations\n",
    "# VDyy_clinical = VDyy_clinical[np.sum(VDyy_clinical, 1) != 0,:]"
   ]
  },
  {
   "cell_type": "markdown",
   "metadata": {},
   "source": [
    "# Make logistic quasibinomial regression "
   ]
  },
  {
   "cell_type": "code",
   "execution_count": null,
   "metadata": {},
   "outputs": [],
   "source": [
    "%%R -i ZHxx_ww -i ZHyy_ww -o glm_ZH_ww_pred2\n",
    "\n",
    "x <- ZHxx_ww[,2]\n",
    "glm_ZH_ww_r2 <- glm(ZHyy_ww ~ x, family=\"quasibinomial\")\n",
    "\n",
    "# do prediction interval in the link scale and then logit them\n",
    "pred_link <- predict(glm_ZH_ww_r2, newdata=data.frame(x=min(x):(max(x)+2)),type=\"link\", se.fit=T)\n",
    "upp <- pred_link$fit + 1.96*pred_link$se.fit\n",
    "low <- pred_link$fit - 1.96*pred_link$se.fit\n",
    "\n",
    "glm_ZH_ww_pred2 <- lapply(list(pred_link$fit, low, upp) ,glm_ZH_ww_r2$family$linkinv)\n",
    "names(glm_ZH_ww_pred2) <- as.character(length(glm_ZH_ww_pred2))"
   ]
  },
  {
   "cell_type": "code",
   "execution_count": null,
   "metadata": {},
   "outputs": [],
   "source": [
    "%%R -i ZHxx_clinical -i ZHyy_clinical -o glm_ZH_clinical_pred2\n",
    "\n",
    "x <- ZHxx_clinical[,2]\n",
    "glm_ZH_clinical_r2 <- glm(ZHyy_clinical ~ x, family=\"quasibinomial\")\n",
    "\n",
    "# do prediction interval in the link scale and then logit them\n",
    "pred_link <- predict(glm_ZH_clinical_r2, newdata=data.frame(x=min(x):(max(x)+2)),type=\"link\", se.fit=T)\n",
    "upp <- pred_link$fit + 1.96*pred_link$se.fit\n",
    "low <- pred_link$fit - 1.96*pred_link$se.fit\n",
    "\n",
    "glm_ZH_clinical_pred2 <- lapply(list(pred_link$fit, low, upp) ,glm_ZH_clinical_r2$family$linkinv)\n",
    "names(glm_ZH_clinical_pred2) <- as.character(length(glm_ZH_clinical_pred2))"
   ]
  },
  {
   "cell_type": "code",
   "execution_count": null,
   "metadata": {},
   "outputs": [],
   "source": [
    "%%R -i VDxx_ww -i VDyy_ww -o glm_VD_ww_pred2\n",
    "\n",
    "x <- VDxx_ww[,2]\n",
    "glm_VD_ww_r2 <- glm(VDyy_ww ~ x, family=\"quasibinomial\")\n",
    "\n",
    "# do prediction interval in the link scale and then logit them\n",
    "pred_link <- predict(glm_VD_ww_r2, newdata=data.frame(x=min(x):(max(x))),type=\"link\", se.fit=T)\n",
    "upp <- pred_link$fit + 1.96*pred_link$se.fit\n",
    "low <- pred_link$fit - 1.96*pred_link$se.fit\n",
    "\n",
    "glm_VD_ww_pred2 <- lapply(list(pred_link$fit, low, upp) ,glm_VD_ww_r2$family$linkinv)\n",
    "names(glm_VD_ww_pred2) <- as.character(length(glm_VD_ww_pred2))"
   ]
  },
  {
   "cell_type": "code",
   "execution_count": null,
   "metadata": {},
   "outputs": [],
   "source": [
    "%%R -i VDxx_clinical -i VDyy_clinical -o glm_VD_clinical_pred2\n",
    "\n",
    "x <- VDxx_clinical[,2]\n",
    "glm_VD_clinical_r2 <- glm(VDyy_clinical ~ x, family=\"quasibinomial\")\n",
    "\n",
    "# do prediction interval in the link scale and then logit them\n",
    "pred_link <- predict(glm_VD_clinical_r2, newdata=data.frame(x=(-6):(max(x))),type=\"link\", se.fit=T)\n",
    "upp <- pred_link$fit + 1.96*pred_link$se.fit\n",
    "low <- pred_link$fit - 1.96*pred_link$se.fit\n",
    "\n",
    "glm_VD_clinical_pred2 <- lapply(list(pred_link$fit, low, upp) ,glm_VD_clinical_r2$family$linkinv)\n",
    "names(glm_VD_clinical_pred2) <- as.character(length(glm_VD_clinical_pred2))"
   ]
  },
  {
   "cell_type": "code",
   "execution_count": null,
   "metadata": {},
   "outputs": [],
   "source": [
    "# cast R output as a Python list of list\n",
    "glm_ZH_ww_pred2 = [list(i) for i in glm_ZH_ww_pred2]\n",
    "glm_ZH_clinical_pred2 = [list(i) for i in glm_ZH_clinical_pred2]\n",
    "glm_VD_ww_pred2 = [list(i) for i in glm_VD_ww_pred2]\n",
    "glm_VD_clinical_pred2 = [list(i) for i in glm_VD_clinical_pred2]"
   ]
  },
  {
   "cell_type": "markdown",
   "metadata": {},
   "source": [
    "## Make plots of logistic regression"
   ]
  },
  {
   "cell_type": "code",
   "execution_count": null,
   "metadata": {},
   "outputs": [],
   "source": [
    "fig, axes = plt.subplots(ncols=2, figsize=(17, 5))\n",
    "\n",
    "sns.lineplot(\n",
    "    x = VDdf_cov.T.index,\n",
    "    y = glm_ZH_ww_pred2[0],\n",
    "    ax=axes[0], label=\"wastewater\"\n",
    "    )\n",
    "axes[0].fill_between(VDdf_cov.T.index,\n",
    "                     glm_ZH_ww_pred2[1],\n",
    "                     glm_ZH_ww_pred2[2],\n",
    "                     alpha=.3)\n",
    "axes[0].errorbar(\n",
    "    x=ZHdf_cov.T.index, \n",
    "    y=ZHdf_counts.sum() / ZHdf_cov.sum(), \n",
    "    yerr=proportion_confint(ZHdf_counts.sum(), ZHdf_cov.sum(), alpha=0.05, method=\"wilson\"),\n",
    "    fmt=\".\", color=\"blue\", alpha=0.5\n",
    ")\n",
    "\n",
    "\n",
    "sns.lineplot(\n",
    "    x = VDdf_cov.T.index,\n",
    "    y = glm_ZH_clinical_pred2[0],\n",
    "    ax=axes[0], label=\"clinical samples\"\n",
    "    )\n",
    "axes[0].fill_between(VDdf_cov.T.index,\n",
    "                     glm_ZH_clinical_pred2[1],\n",
    "                     glm_ZH_clinical_pred2[2],\n",
    "                     alpha=.3)\n",
    "ZHyy_clinical2 = viollier2[(viollier2[\"canton\"] == \"ZH\") & (viollier2[\"date\"].isin(ZHdf_cov.T.index))][[\"b117\", \"wt\"]]\n",
    "axes[0].errorbar(\n",
    "    x=ZHxx_clinical[:,1]*np.timedelta64(1, 'D') + np.datetime64('2020-12-14'), \n",
    "    y=ZHyy_clinical2[\"b117\"] / (ZHyy_clinical2[\"b117\"]+ZHyy_clinical2[\"wt\"]),\n",
    "    yerr=proportion_confint(ZHyy_clinical2[\"b117\"],\n",
    "                            (ZHyy_clinical2[\"b117\"]+ZHyy_clinical2[\"wt\"]),\n",
    "                            alpha=0.05, method=\"wilson\"),\n",
    "    fmt=\".\", color=\"orange\", alpha=0.5\n",
    ")\n",
    "\n",
    "axes[0].legend(loc='upper left')\n",
    "axes[0].set_title(\"Zürich (ZH)\")\n",
    "axes[0].set_ylim((0,1))\n",
    "\n",
    "sns.lineplot(\n",
    "    x = VDdf_cov.T.index,\n",
    "    y = glm_VD_ww_pred2[0],\n",
    "    ax=axes[1], label=\"wastewater\"\n",
    "    )\n",
    "axes[1].fill_between(VDdf_cov.T.index,\n",
    "                     glm_VD_ww_pred2[1],\n",
    "                     glm_VD_ww_pred2[2],\n",
    "                     alpha=.3)\n",
    "axes[1].errorbar(\n",
    "    x=VDdf_cov.T.index, \n",
    "    y=VDdf_counts.sum() / VDdf_cov.sum(), \n",
    "    yerr=proportion_confint(VDdf_counts.sum(), VDdf_cov.sum(), alpha=0.05, method=\"wilson\"),\n",
    "    fmt=\".\", color=\"blue\", alpha=0.5\n",
    ")\n",
    "\n",
    "sns.lineplot(\n",
    "    x = VDdf_cov.T.index,\n",
    "    y = glm_VD_clinical_pred2[0],\n",
    "    ax=axes[1], label=\"clinical samples\"\n",
    "    )\n",
    "axes[1].fill_between(VDdf_cov.T.index,\n",
    "                     glm_VD_clinical_pred2[1],\n",
    "                     glm_VD_clinical_pred2[2],\n",
    "                     alpha=.3)\n",
    "VDyy_clinical2 = viollier2[(viollier2[\"canton\"] == \"VD\") & (viollier2[\"date\"].isin(VDdf_cov.T.index))][[\"b117\", \"wt\"]]\n",
    "axes[1].errorbar(\n",
    "    x=VDxx_clinical[:,1]*np.timedelta64(1, 'D') + np.datetime64('2020-12-14'), \n",
    "    y=VDyy_clinical2[\"b117\"] / (VDyy_clinical2[\"b117\"]+VDyy_clinical2[\"wt\"]),\n",
    "    yerr=proportion_confint(VDyy_clinical2[\"b117\"],\n",
    "                            VDyy_clinical2[\"b117\"]+VDyy_clinical2[\"wt\"],\n",
    "                            alpha=0.05, method=\"wilson\"),\n",
    "    fmt=\".\", color=\"orange\", alpha=0.5\n",
    ")\n",
    "\n",
    "axes[1].legend(loc='upper left')\n",
    "axes[1].set_title(\"Lausanne (VD)\")\n",
    "axes[1].set_ylim((0,1))\n",
    "\n",
    "plt.savefig(\"plots/logist_plot2.pdf\")\n",
    "plt.show()"
   ]
  },
  {
   "cell_type": "markdown",
   "metadata": {},
   "source": [
    "### Confints with overdispersion"
   ]
  },
  {
   "cell_type": "code",
   "execution_count": null,
   "metadata": {},
   "outputs": [],
   "source": [
    "%%R\n",
    "\n",
    "coefs <- lapply(list(glm_ZH_clinical_r2, glm_ZH_ww_r2, glm_VD_clinical_r2, glm_VD_ww_r2), function(x){\n",
    "    rbind(c(coef(x)[2], confint(x)[2,]))\n",
    "})\n",
    "coefs <- Reduce(function(...) rbind.data.frame(...), coefs)\n",
    "row.names(coefs) <- c(\"ZH clinical\", \"ZH wastewater\", \"VD clinical\", \"VD wastewater\")\n",
    "colnames(coefs)[1] = \"growth rate\"\n",
    "round(coefs, 2)"
   ]
  },
  {
   "cell_type": "markdown",
   "metadata": {},
   "source": [
    "### Confint fitness_d"
   ]
  },
  {
   "cell_type": "code",
   "execution_count": 22,
   "metadata": {},
   "outputs": [
    {
     "data": {
      "text/plain": [
       "              fitness d. 2.5 % 97.5 %\n",
       "ZH clinical         0.49  0.34   0.68\n",
       "ZH wastewater       0.46  0.35   0.60\n",
       "VD clinical         0.76  0.34   1.47\n",
       "VD wastewater       0.59  0.42   0.84\n"
      ]
     },
     "metadata": {},
     "output_type": "display_data"
    }
   ],
   "source": [
    "%%R\n",
    "fitness_discr <- function(a){exp(a*4.8)-1}\n",
    "fitness_discr <- fitness_discr(coefs)\n",
    "colnames(fitness_discr)[1] <- \"fitness d.\"\n",
    "round(fitness_discr, 2)"
   ]
  },
  {
   "cell_type": "markdown",
   "metadata": {},
   "source": [
    "### Confint fitness_d for Chen et al: redo with backtransformation from logit space\n"
   ]
  },
  {
   "cell_type": "code",
   "execution_count": 23,
   "metadata": {},
   "outputs": [
    {
     "name": "stdout",
     "output_type": "stream",
     "text": [
      "Zürich Region\n",
      "[0.4, 0.7]\n",
      "Lake Geneva Region\n",
      "[0.54, 0.96]\n"
     ]
    }
   ],
   "source": [
    "fitness_discr = lambda x: np.exp(x*4.8)-1\n",
    "print(\"Zürich Region\")\n",
    "print([round(i,2) for i in (fitness_discr(0.07), fitness_discr(0.11))])\n",
    "print(\"Lake Geneva Region\")\n",
    "print([round(i,2) for i in (fitness_discr(0.09), fitness_discr(0.14))])"
   ]
  },
  {
   "cell_type": "markdown",
   "metadata": {},
   "source": [
    "# Do online fitness estimation: vary time series length"
   ]
  },
  {
   "cell_type": "markdown",
   "metadata": {},
   "source": [
    "## Prepare Data"
   ]
  },
  {
   "cell_type": "code",
   "execution_count": 24,
   "metadata": {},
   "outputs": [],
   "source": [
    "# make one df with all I need\n",
    "viollier2[\"wt\"] = viollier2[\"sequenced\"] - viollier2[\"b117\"]\n",
    "viollier2.index = viollier2.date\n",
    "\n",
    "# make ZH ww df\n",
    "ZHwwdf = pd.DataFrame({\"b117\": ZHdf_counts.sum(axis=0),\n",
    "                       \"wt\": (ZHdf_cov.sum(axis=0) - ZHdf_counts.sum(axis=0))})\n",
    "# make ZH clinical df\n",
    "ZHclinicaldf = viollier2[(viollier2[\"canton\"] == \"ZH\") & (viollier2[\"date\"].isin(ZHdf_cov.T.index))][[\"b117\", \"wt\"]]\n",
    "\n",
    "# make VD ww df\n",
    "VDwwdf = pd.DataFrame({\"b117\": VDdf_counts.sum(axis=0),\n",
    "                       \"wt\": (VDdf_cov.sum(axis=0) - VDdf_counts.sum(axis=0))})\n",
    "\n",
    "# make VD clinical df\n",
    "VDclinicaldf = viollier2[(viollier2[\"canton\"] == \"VD\") & (viollier2[\"date\"].isin(VDdf_cov.T.index))][[\"b117\", \"wt\"]]\n",
    "\n",
    "\n",
    "\n",
    "Count_df = pd.concat([ZHwwdf, ZHclinicaldf, VDwwdf, VDclinicaldf], axis=1)\n",
    "Count_df.set_axis([\"ZH_ww_b117\", \"ZH_ww_wt\", \"ZH_clinical_b117\", \"ZH_clinical_wt\",\n",
    "                   \"VD_ww_b117\", \"VD_ww_wt\", \"VD_clinical_b117\", \"VD_clinical_wt\"], axis = 1, inplace=True)\n",
    "Count_df[\"day\"] = np.arange(Count_df.shape[0])\n",
    "Count_array = Count_df.values"
   ]
  },
  {
   "cell_type": "code",
   "execution_count": 25,
   "metadata": {
    "collapsed": true,
    "jupyter": {
     "outputs_hidden": true
    },
    "tags": []
   },
   "outputs": [
    {
     "ename": "AttributeError",
     "evalue": "type object 'DataFrame' has no attribute 'from_items'",
     "output_type": "error",
     "traceback": [
      "\u001b[0;31m---------------------------------------------------------------------------\u001b[0m",
      "\u001b[0;31mAttributeError\u001b[0m                            Traceback (most recent call last)",
      "\u001b[0;32m/var/folders/yt/sy9k0v5j5614lbn7g01dkf6r0000gn/T/ipykernel_16887/3766910548.py\u001b[0m in \u001b[0;36m<module>\u001b[0;34m\u001b[0m\n\u001b[0;32m----> 1\u001b[0;31m \u001b[0mget_ipython\u001b[0m\u001b[0;34m(\u001b[0m\u001b[0;34m)\u001b[0m\u001b[0;34m.\u001b[0m\u001b[0mrun_cell_magic\u001b[0m\u001b[0;34m(\u001b[0m\u001b[0;34m'R'\u001b[0m\u001b[0;34m,\u001b[0m \u001b[0;34m'-i Count_df'\u001b[0m\u001b[0;34m,\u001b[0m \u001b[0;34m'# This cell will throw an error because some attributes fail to be passed between python and R,\\n# no worries just keep executing the next cells\\n1\\n'\u001b[0m\u001b[0;34m)\u001b[0m\u001b[0;34m\u001b[0m\u001b[0;34m\u001b[0m\u001b[0m\n\u001b[0m",
      "\u001b[0;32m~/miniconda3/envs/rpy2/lib/python3.7/site-packages/IPython/core/interactiveshell.py\u001b[0m in \u001b[0;36mrun_cell_magic\u001b[0;34m(self, magic_name, line, cell)\u001b[0m\n\u001b[1;32m   2417\u001b[0m             \u001b[0;32mwith\u001b[0m \u001b[0mself\u001b[0m\u001b[0;34m.\u001b[0m\u001b[0mbuiltin_trap\u001b[0m\u001b[0;34m:\u001b[0m\u001b[0;34m\u001b[0m\u001b[0;34m\u001b[0m\u001b[0m\n\u001b[1;32m   2418\u001b[0m                 \u001b[0margs\u001b[0m \u001b[0;34m=\u001b[0m \u001b[0;34m(\u001b[0m\u001b[0mmagic_arg_s\u001b[0m\u001b[0;34m,\u001b[0m \u001b[0mcell\u001b[0m\u001b[0;34m)\u001b[0m\u001b[0;34m\u001b[0m\u001b[0;34m\u001b[0m\u001b[0m\n\u001b[0;32m-> 2419\u001b[0;31m                 \u001b[0mresult\u001b[0m \u001b[0;34m=\u001b[0m \u001b[0mfn\u001b[0m\u001b[0;34m(\u001b[0m\u001b[0;34m*\u001b[0m\u001b[0margs\u001b[0m\u001b[0;34m,\u001b[0m \u001b[0;34m**\u001b[0m\u001b[0mkwargs\u001b[0m\u001b[0;34m)\u001b[0m\u001b[0;34m\u001b[0m\u001b[0;34m\u001b[0m\u001b[0m\n\u001b[0m\u001b[1;32m   2420\u001b[0m             \u001b[0;32mreturn\u001b[0m \u001b[0mresult\u001b[0m\u001b[0;34m\u001b[0m\u001b[0;34m\u001b[0m\u001b[0m\n\u001b[1;32m   2421\u001b[0m \u001b[0;34m\u001b[0m\u001b[0m\n",
      "\u001b[0;32m~/miniconda3/envs/rpy2/lib/python3.7/site-packages/decorator.py\u001b[0m in \u001b[0;36mfun\u001b[0;34m(*args, **kw)\u001b[0m\n\u001b[1;32m    230\u001b[0m             \u001b[0;32mif\u001b[0m \u001b[0;32mnot\u001b[0m \u001b[0mkwsyntax\u001b[0m\u001b[0;34m:\u001b[0m\u001b[0;34m\u001b[0m\u001b[0;34m\u001b[0m\u001b[0m\n\u001b[1;32m    231\u001b[0m                 \u001b[0margs\u001b[0m\u001b[0;34m,\u001b[0m \u001b[0mkw\u001b[0m \u001b[0;34m=\u001b[0m \u001b[0mfix\u001b[0m\u001b[0;34m(\u001b[0m\u001b[0margs\u001b[0m\u001b[0;34m,\u001b[0m \u001b[0mkw\u001b[0m\u001b[0;34m,\u001b[0m \u001b[0msig\u001b[0m\u001b[0;34m)\u001b[0m\u001b[0;34m\u001b[0m\u001b[0;34m\u001b[0m\u001b[0m\n\u001b[0;32m--> 232\u001b[0;31m             \u001b[0;32mreturn\u001b[0m \u001b[0mcaller\u001b[0m\u001b[0;34m(\u001b[0m\u001b[0mfunc\u001b[0m\u001b[0;34m,\u001b[0m \u001b[0;34m*\u001b[0m\u001b[0;34m(\u001b[0m\u001b[0mextras\u001b[0m \u001b[0;34m+\u001b[0m \u001b[0margs\u001b[0m\u001b[0;34m)\u001b[0m\u001b[0;34m,\u001b[0m \u001b[0;34m**\u001b[0m\u001b[0mkw\u001b[0m\u001b[0;34m)\u001b[0m\u001b[0;34m\u001b[0m\u001b[0;34m\u001b[0m\u001b[0m\n\u001b[0m\u001b[1;32m    233\u001b[0m     \u001b[0mfun\u001b[0m\u001b[0;34m.\u001b[0m\u001b[0m__name__\u001b[0m \u001b[0;34m=\u001b[0m \u001b[0mfunc\u001b[0m\u001b[0;34m.\u001b[0m\u001b[0m__name__\u001b[0m\u001b[0;34m\u001b[0m\u001b[0;34m\u001b[0m\u001b[0m\n\u001b[1;32m    234\u001b[0m     \u001b[0mfun\u001b[0m\u001b[0;34m.\u001b[0m\u001b[0m__doc__\u001b[0m \u001b[0;34m=\u001b[0m \u001b[0mfunc\u001b[0m\u001b[0;34m.\u001b[0m\u001b[0m__doc__\u001b[0m\u001b[0;34m\u001b[0m\u001b[0;34m\u001b[0m\u001b[0m\n",
      "\u001b[0;32m~/miniconda3/envs/rpy2/lib/python3.7/site-packages/IPython/core/magic.py\u001b[0m in \u001b[0;36m<lambda>\u001b[0;34m(f, *a, **k)\u001b[0m\n\u001b[1;32m    185\u001b[0m     \u001b[0;31m# but it's overkill for just that one bit of state.\u001b[0m\u001b[0;34m\u001b[0m\u001b[0;34m\u001b[0m\u001b[0;34m\u001b[0m\u001b[0m\n\u001b[1;32m    186\u001b[0m     \u001b[0;32mdef\u001b[0m \u001b[0mmagic_deco\u001b[0m\u001b[0;34m(\u001b[0m\u001b[0marg\u001b[0m\u001b[0;34m)\u001b[0m\u001b[0;34m:\u001b[0m\u001b[0;34m\u001b[0m\u001b[0;34m\u001b[0m\u001b[0m\n\u001b[0;32m--> 187\u001b[0;31m         \u001b[0mcall\u001b[0m \u001b[0;34m=\u001b[0m \u001b[0;32mlambda\u001b[0m \u001b[0mf\u001b[0m\u001b[0;34m,\u001b[0m \u001b[0;34m*\u001b[0m\u001b[0ma\u001b[0m\u001b[0;34m,\u001b[0m \u001b[0;34m**\u001b[0m\u001b[0mk\u001b[0m\u001b[0;34m:\u001b[0m \u001b[0mf\u001b[0m\u001b[0;34m(\u001b[0m\u001b[0;34m*\u001b[0m\u001b[0ma\u001b[0m\u001b[0;34m,\u001b[0m \u001b[0;34m**\u001b[0m\u001b[0mk\u001b[0m\u001b[0;34m)\u001b[0m\u001b[0;34m\u001b[0m\u001b[0;34m\u001b[0m\u001b[0m\n\u001b[0m\u001b[1;32m    188\u001b[0m \u001b[0;34m\u001b[0m\u001b[0m\n\u001b[1;32m    189\u001b[0m         \u001b[0;32mif\u001b[0m \u001b[0mcallable\u001b[0m\u001b[0;34m(\u001b[0m\u001b[0marg\u001b[0m\u001b[0;34m)\u001b[0m\u001b[0;34m:\u001b[0m\u001b[0;34m\u001b[0m\u001b[0;34m\u001b[0m\u001b[0m\n",
      "\u001b[0;32m~/miniconda3/envs/rpy2/lib/python3.7/site-packages/rpy2/ipython/rmagic.py\u001b[0m in \u001b[0;36mR\u001b[0;34m(self, line, cell, local_ns)\u001b[0m\n\u001b[1;32m    688\u001b[0m                         \u001b[0;32mraise\u001b[0m \u001b[0mNameError\u001b[0m\u001b[0;34m(\u001b[0m\u001b[0;34m\"name '%s' is not defined\"\u001b[0m \u001b[0;34m%\u001b[0m \u001b[0minput\u001b[0m\u001b[0;34m)\u001b[0m\u001b[0;34m\u001b[0m\u001b[0;34m\u001b[0m\u001b[0m\n\u001b[1;32m    689\u001b[0m                 \u001b[0;32mwith\u001b[0m \u001b[0mlocalconverter\u001b[0m\u001b[0;34m(\u001b[0m\u001b[0mconverter\u001b[0m\u001b[0;34m)\u001b[0m \u001b[0;32mas\u001b[0m \u001b[0mcv\u001b[0m\u001b[0;34m:\u001b[0m\u001b[0;34m\u001b[0m\u001b[0;34m\u001b[0m\u001b[0m\n\u001b[0;32m--> 690\u001b[0;31m                     \u001b[0mro\u001b[0m\u001b[0;34m.\u001b[0m\u001b[0mr\u001b[0m\u001b[0;34m.\u001b[0m\u001b[0massign\u001b[0m\u001b[0;34m(\u001b[0m\u001b[0minput\u001b[0m\u001b[0;34m,\u001b[0m \u001b[0mval\u001b[0m\u001b[0;34m)\u001b[0m\u001b[0;34m\u001b[0m\u001b[0;34m\u001b[0m\u001b[0m\n\u001b[0m\u001b[1;32m    691\u001b[0m \u001b[0;34m\u001b[0m\u001b[0m\n\u001b[1;32m    692\u001b[0m         \u001b[0mtmpd\u001b[0m \u001b[0;34m=\u001b[0m \u001b[0mself\u001b[0m\u001b[0;34m.\u001b[0m\u001b[0msetup_graphics\u001b[0m\u001b[0;34m(\u001b[0m\u001b[0margs\u001b[0m\u001b[0;34m)\u001b[0m\u001b[0;34m\u001b[0m\u001b[0;34m\u001b[0m\u001b[0m\n",
      "\u001b[0;32m~/miniconda3/envs/rpy2/lib/python3.7/site-packages/rpy2/robjects/functions.py\u001b[0m in \u001b[0;36m__call__\u001b[0;34m(self, *args, **kwargs)\u001b[0m\n\u001b[1;32m    176\u001b[0m                 \u001b[0mv\u001b[0m \u001b[0;34m=\u001b[0m \u001b[0mkwargs\u001b[0m\u001b[0;34m.\u001b[0m\u001b[0mpop\u001b[0m\u001b[0;34m(\u001b[0m\u001b[0mk\u001b[0m\u001b[0;34m)\u001b[0m\u001b[0;34m\u001b[0m\u001b[0;34m\u001b[0m\u001b[0m\n\u001b[1;32m    177\u001b[0m                 \u001b[0mkwargs\u001b[0m\u001b[0;34m[\u001b[0m\u001b[0mr_k\u001b[0m\u001b[0;34m]\u001b[0m \u001b[0;34m=\u001b[0m \u001b[0mv\u001b[0m\u001b[0;34m\u001b[0m\u001b[0;34m\u001b[0m\u001b[0m\n\u001b[0;32m--> 178\u001b[0;31m         \u001b[0;32mreturn\u001b[0m \u001b[0msuper\u001b[0m\u001b[0;34m(\u001b[0m\u001b[0mSignatureTranslatedFunction\u001b[0m\u001b[0;34m,\u001b[0m \u001b[0mself\u001b[0m\u001b[0;34m)\u001b[0m\u001b[0;34m.\u001b[0m\u001b[0m__call__\u001b[0m\u001b[0;34m(\u001b[0m\u001b[0;34m*\u001b[0m\u001b[0margs\u001b[0m\u001b[0;34m,\u001b[0m \u001b[0;34m**\u001b[0m\u001b[0mkwargs\u001b[0m\u001b[0;34m)\u001b[0m\u001b[0;34m\u001b[0m\u001b[0;34m\u001b[0m\u001b[0m\n\u001b[0m\u001b[1;32m    179\u001b[0m \u001b[0;34m\u001b[0m\u001b[0m\n\u001b[1;32m    180\u001b[0m \u001b[0mpattern_link\u001b[0m \u001b[0;34m=\u001b[0m \u001b[0mre\u001b[0m\u001b[0;34m.\u001b[0m\u001b[0mcompile\u001b[0m\u001b[0;34m(\u001b[0m\u001b[0;34mr'\\\\link\\{(.+?)\\}'\u001b[0m\u001b[0;34m)\u001b[0m\u001b[0;34m\u001b[0m\u001b[0;34m\u001b[0m\u001b[0m\n",
      "\u001b[0;32m~/miniconda3/envs/rpy2/lib/python3.7/site-packages/rpy2/robjects/functions.py\u001b[0m in \u001b[0;36m__call__\u001b[0;34m(self, *args, **kwargs)\u001b[0m\n\u001b[1;32m    105\u001b[0m             \u001b[0mnew_kwargs\u001b[0m\u001b[0;34m[\u001b[0m\u001b[0mk\u001b[0m\u001b[0;34m]\u001b[0m \u001b[0;34m=\u001b[0m \u001b[0mconversion\u001b[0m\u001b[0;34m.\u001b[0m\u001b[0mpy2ri\u001b[0m\u001b[0;34m(\u001b[0m\u001b[0mv\u001b[0m\u001b[0;34m)\u001b[0m\u001b[0;34m\u001b[0m\u001b[0;34m\u001b[0m\u001b[0m\n\u001b[1;32m    106\u001b[0m         \u001b[0mres\u001b[0m \u001b[0;34m=\u001b[0m \u001b[0msuper\u001b[0m\u001b[0;34m(\u001b[0m\u001b[0mFunction\u001b[0m\u001b[0;34m,\u001b[0m \u001b[0mself\u001b[0m\u001b[0;34m)\u001b[0m\u001b[0;34m.\u001b[0m\u001b[0m__call__\u001b[0m\u001b[0;34m(\u001b[0m\u001b[0;34m*\u001b[0m\u001b[0mnew_args\u001b[0m\u001b[0;34m,\u001b[0m \u001b[0;34m**\u001b[0m\u001b[0mnew_kwargs\u001b[0m\u001b[0;34m)\u001b[0m\u001b[0;34m\u001b[0m\u001b[0;34m\u001b[0m\u001b[0m\n\u001b[0;32m--> 107\u001b[0;31m         \u001b[0mres\u001b[0m \u001b[0;34m=\u001b[0m \u001b[0mconversion\u001b[0m\u001b[0;34m.\u001b[0m\u001b[0mri2ro\u001b[0m\u001b[0;34m(\u001b[0m\u001b[0mres\u001b[0m\u001b[0;34m)\u001b[0m\u001b[0;34m\u001b[0m\u001b[0;34m\u001b[0m\u001b[0m\n\u001b[0m\u001b[1;32m    108\u001b[0m         \u001b[0;32mreturn\u001b[0m \u001b[0mres\u001b[0m\u001b[0;34m\u001b[0m\u001b[0;34m\u001b[0m\u001b[0m\n\u001b[1;32m    109\u001b[0m \u001b[0;34m\u001b[0m\u001b[0m\n",
      "\u001b[0;32m~/miniconda3/envs/rpy2/lib/python3.7/functools.py\u001b[0m in \u001b[0;36mwrapper\u001b[0;34m(*args, **kw)\u001b[0m\n\u001b[1;32m    838\u001b[0m                             '1 positional argument')\n\u001b[1;32m    839\u001b[0m \u001b[0;34m\u001b[0m\u001b[0m\n\u001b[0;32m--> 840\u001b[0;31m         \u001b[0;32mreturn\u001b[0m \u001b[0mdispatch\u001b[0m\u001b[0;34m(\u001b[0m\u001b[0margs\u001b[0m\u001b[0;34m[\u001b[0m\u001b[0;36m0\u001b[0m\u001b[0;34m]\u001b[0m\u001b[0;34m.\u001b[0m\u001b[0m__class__\u001b[0m\u001b[0;34m)\u001b[0m\u001b[0;34m(\u001b[0m\u001b[0;34m*\u001b[0m\u001b[0margs\u001b[0m\u001b[0;34m,\u001b[0m \u001b[0;34m**\u001b[0m\u001b[0mkw\u001b[0m\u001b[0;34m)\u001b[0m\u001b[0;34m\u001b[0m\u001b[0;34m\u001b[0m\u001b[0m\n\u001b[0m\u001b[1;32m    841\u001b[0m \u001b[0;34m\u001b[0m\u001b[0m\n\u001b[1;32m    842\u001b[0m     \u001b[0mfuncname\u001b[0m \u001b[0;34m=\u001b[0m \u001b[0mgetattr\u001b[0m\u001b[0;34m(\u001b[0m\u001b[0mfunc\u001b[0m\u001b[0;34m,\u001b[0m \u001b[0;34m'__name__'\u001b[0m\u001b[0;34m,\u001b[0m \u001b[0;34m'singledispatch function'\u001b[0m\u001b[0;34m)\u001b[0m\u001b[0;34m\u001b[0m\u001b[0;34m\u001b[0m\u001b[0m\n",
      "\u001b[0;32m~/miniconda3/envs/rpy2/lib/python3.7/site-packages/rpy2/ipython/rmagic.py\u001b[0m in \u001b[0;36m_\u001b[0;34m(obj)\u001b[0m\n\u001b[1;32m    147\u001b[0m     \u001b[0;32mif\u001b[0m \u001b[0;34m'data.frame'\u001b[0m \u001b[0;32min\u001b[0m \u001b[0mobj\u001b[0m\u001b[0;34m.\u001b[0m\u001b[0mrclass\u001b[0m\u001b[0;34m:\u001b[0m\u001b[0;34m\u001b[0m\u001b[0;34m\u001b[0m\u001b[0m\n\u001b[1;32m    148\u001b[0m         \u001b[0;31m# request to turn it to a pandas DataFrame\u001b[0m\u001b[0;34m\u001b[0m\u001b[0;34m\u001b[0m\u001b[0;34m\u001b[0m\u001b[0m\n\u001b[0;32m--> 149\u001b[0;31m         \u001b[0mres\u001b[0m \u001b[0;34m=\u001b[0m \u001b[0mconverter\u001b[0m\u001b[0;34m.\u001b[0m\u001b[0mri2py\u001b[0m\u001b[0;34m(\u001b[0m\u001b[0mobj\u001b[0m\u001b[0;34m)\u001b[0m\u001b[0;34m\u001b[0m\u001b[0;34m\u001b[0m\u001b[0m\n\u001b[0m\u001b[1;32m    150\u001b[0m     \u001b[0;32melse\u001b[0m\u001b[0;34m:\u001b[0m\u001b[0;34m\u001b[0m\u001b[0;34m\u001b[0m\u001b[0m\n\u001b[1;32m    151\u001b[0m         \u001b[0mres\u001b[0m \u001b[0;34m=\u001b[0m \u001b[0mro\u001b[0m\u001b[0;34m.\u001b[0m\u001b[0msexpvector_to_ro\u001b[0m\u001b[0;34m(\u001b[0m\u001b[0mobj\u001b[0m\u001b[0;34m)\u001b[0m\u001b[0;34m\u001b[0m\u001b[0;34m\u001b[0m\u001b[0m\n",
      "\u001b[0;32m~/miniconda3/envs/rpy2/lib/python3.7/functools.py\u001b[0m in \u001b[0;36mwrapper\u001b[0;34m(*args, **kw)\u001b[0m\n\u001b[1;32m    838\u001b[0m                             '1 positional argument')\n\u001b[1;32m    839\u001b[0m \u001b[0;34m\u001b[0m\u001b[0m\n\u001b[0;32m--> 840\u001b[0;31m         \u001b[0;32mreturn\u001b[0m \u001b[0mdispatch\u001b[0m\u001b[0;34m(\u001b[0m\u001b[0margs\u001b[0m\u001b[0;34m[\u001b[0m\u001b[0;36m0\u001b[0m\u001b[0;34m]\u001b[0m\u001b[0;34m.\u001b[0m\u001b[0m__class__\u001b[0m\u001b[0;34m)\u001b[0m\u001b[0;34m(\u001b[0m\u001b[0;34m*\u001b[0m\u001b[0margs\u001b[0m\u001b[0;34m,\u001b[0m \u001b[0;34m**\u001b[0m\u001b[0mkw\u001b[0m\u001b[0;34m)\u001b[0m\u001b[0;34m\u001b[0m\u001b[0;34m\u001b[0m\u001b[0m\n\u001b[0m\u001b[1;32m    841\u001b[0m \u001b[0;34m\u001b[0m\u001b[0m\n\u001b[1;32m    842\u001b[0m     \u001b[0mfuncname\u001b[0m \u001b[0;34m=\u001b[0m \u001b[0mgetattr\u001b[0m\u001b[0;34m(\u001b[0m\u001b[0mfunc\u001b[0m\u001b[0;34m,\u001b[0m \u001b[0;34m'__name__'\u001b[0m\u001b[0;34m,\u001b[0m \u001b[0;34m'singledispatch function'\u001b[0m\u001b[0;34m)\u001b[0m\u001b[0;34m\u001b[0m\u001b[0;34m\u001b[0m\u001b[0m\n",
      "\u001b[0;32m~/miniconda3/envs/rpy2/lib/python3.7/site-packages/rpy2/robjects/pandas2ri.py\u001b[0m in \u001b[0;36mri2py_listvector\u001b[0;34m(obj)\u001b[0m\n\u001b[1;32m    181\u001b[0m \u001b[0;32mdef\u001b[0m \u001b[0mri2py_listvector\u001b[0m\u001b[0;34m(\u001b[0m\u001b[0mobj\u001b[0m\u001b[0;34m)\u001b[0m\u001b[0;34m:\u001b[0m\u001b[0;34m\u001b[0m\u001b[0;34m\u001b[0m\u001b[0m\n\u001b[1;32m    182\u001b[0m     \u001b[0;32mif\u001b[0m \u001b[0;34m'data.frame'\u001b[0m \u001b[0;32min\u001b[0m \u001b[0mobj\u001b[0m\u001b[0;34m.\u001b[0m\u001b[0mrclass\u001b[0m\u001b[0;34m:\u001b[0m\u001b[0;34m\u001b[0m\u001b[0;34m\u001b[0m\u001b[0m\n\u001b[0;32m--> 183\u001b[0;31m         \u001b[0mres\u001b[0m \u001b[0;34m=\u001b[0m \u001b[0mri2py\u001b[0m\u001b[0;34m(\u001b[0m\u001b[0mDataFrame\u001b[0m\u001b[0;34m(\u001b[0m\u001b[0mobj\u001b[0m\u001b[0;34m)\u001b[0m\u001b[0;34m)\u001b[0m\u001b[0;34m\u001b[0m\u001b[0;34m\u001b[0m\u001b[0m\n\u001b[0m\u001b[1;32m    184\u001b[0m     \u001b[0;32melse\u001b[0m\u001b[0;34m:\u001b[0m\u001b[0;34m\u001b[0m\u001b[0;34m\u001b[0m\u001b[0m\n\u001b[1;32m    185\u001b[0m         \u001b[0mres\u001b[0m \u001b[0;34m=\u001b[0m \u001b[0mnumpy2ri\u001b[0m\u001b[0;34m.\u001b[0m\u001b[0mri2py\u001b[0m\u001b[0;34m(\u001b[0m\u001b[0mobj\u001b[0m\u001b[0;34m)\u001b[0m\u001b[0;34m\u001b[0m\u001b[0;34m\u001b[0m\u001b[0m\n",
      "\u001b[0;32m~/miniconda3/envs/rpy2/lib/python3.7/functools.py\u001b[0m in \u001b[0;36mwrapper\u001b[0;34m(*args, **kw)\u001b[0m\n\u001b[1;32m    838\u001b[0m                             '1 positional argument')\n\u001b[1;32m    839\u001b[0m \u001b[0;34m\u001b[0m\u001b[0m\n\u001b[0;32m--> 840\u001b[0;31m         \u001b[0;32mreturn\u001b[0m \u001b[0mdispatch\u001b[0m\u001b[0;34m(\u001b[0m\u001b[0margs\u001b[0m\u001b[0;34m[\u001b[0m\u001b[0;36m0\u001b[0m\u001b[0;34m]\u001b[0m\u001b[0;34m.\u001b[0m\u001b[0m__class__\u001b[0m\u001b[0;34m)\u001b[0m\u001b[0;34m(\u001b[0m\u001b[0;34m*\u001b[0m\u001b[0margs\u001b[0m\u001b[0;34m,\u001b[0m \u001b[0;34m**\u001b[0m\u001b[0mkw\u001b[0m\u001b[0;34m)\u001b[0m\u001b[0;34m\u001b[0m\u001b[0;34m\u001b[0m\u001b[0m\n\u001b[0m\u001b[1;32m    841\u001b[0m \u001b[0;34m\u001b[0m\u001b[0m\n\u001b[1;32m    842\u001b[0m     \u001b[0mfuncname\u001b[0m \u001b[0;34m=\u001b[0m \u001b[0mgetattr\u001b[0m\u001b[0;34m(\u001b[0m\u001b[0mfunc\u001b[0m\u001b[0;34m,\u001b[0m \u001b[0;34m'__name__'\u001b[0m\u001b[0;34m,\u001b[0m \u001b[0;34m'singledispatch function'\u001b[0m\u001b[0;34m)\u001b[0m\u001b[0;34m\u001b[0m\u001b[0;34m\u001b[0m\u001b[0m\n",
      "\u001b[0;32m~/miniconda3/envs/rpy2/lib/python3.7/site-packages/rpy2/robjects/pandas2ri.py\u001b[0m in \u001b[0;36mri2py_dataframe\u001b[0;34m(obj)\u001b[0m\n\u001b[1;32m    189\u001b[0m \u001b[0;32mdef\u001b[0m \u001b[0mri2py_dataframe\u001b[0m\u001b[0;34m(\u001b[0m\u001b[0mobj\u001b[0m\u001b[0;34m)\u001b[0m\u001b[0;34m:\u001b[0m\u001b[0;34m\u001b[0m\u001b[0;34m\u001b[0m\u001b[0m\n\u001b[1;32m    190\u001b[0m     \u001b[0mitems\u001b[0m \u001b[0;34m=\u001b[0m \u001b[0mtuple\u001b[0m\u001b[0;34m(\u001b[0m\u001b[0;34m(\u001b[0m\u001b[0mk\u001b[0m\u001b[0;34m,\u001b[0m \u001b[0mri2py\u001b[0m\u001b[0;34m(\u001b[0m\u001b[0mv\u001b[0m\u001b[0;34m)\u001b[0m\u001b[0;34m)\u001b[0m \u001b[0;32mfor\u001b[0m \u001b[0mk\u001b[0m\u001b[0;34m,\u001b[0m \u001b[0mv\u001b[0m \u001b[0;32min\u001b[0m \u001b[0mobj\u001b[0m\u001b[0;34m.\u001b[0m\u001b[0mitems\u001b[0m\u001b[0;34m(\u001b[0m\u001b[0;34m)\u001b[0m\u001b[0;34m)\u001b[0m\u001b[0;34m\u001b[0m\u001b[0;34m\u001b[0m\u001b[0m\n\u001b[0;32m--> 191\u001b[0;31m     \u001b[0mres\u001b[0m \u001b[0;34m=\u001b[0m \u001b[0mPandasDataFrame\u001b[0m\u001b[0;34m.\u001b[0m\u001b[0mfrom_items\u001b[0m\u001b[0;34m(\u001b[0m\u001b[0mitems\u001b[0m\u001b[0;34m)\u001b[0m\u001b[0;34m\u001b[0m\u001b[0;34m\u001b[0m\u001b[0m\n\u001b[0m\u001b[1;32m    192\u001b[0m     \u001b[0;32mreturn\u001b[0m \u001b[0mres\u001b[0m\u001b[0;34m\u001b[0m\u001b[0;34m\u001b[0m\u001b[0m\n\u001b[1;32m    193\u001b[0m \u001b[0;34m\u001b[0m\u001b[0m\n",
      "\u001b[0;31mAttributeError\u001b[0m: type object 'DataFrame' has no attribute 'from_items'"
     ]
    }
   ],
   "source": [
    "%%R -i Count_df\n",
    "# This cell will throw an error because some attributes fail to be passed between python and R,\n",
    "# no worries just keep executing the next cells\n",
    "1"
   ]
  },
  {
   "cell_type": "markdown",
   "metadata": {},
   "source": [
    "## Fit online models"
   ]
  },
  {
   "cell_type": "code",
   "execution_count": 26,
   "metadata": {
    "tags": []
   },
   "outputs": [],
   "source": [
    "%%R -o All_est_mat -o All_est_mat_names\n",
    "All_est <- lapply(6:68, function(i){\n",
    "    ZH_wwfit = glm(as.matrix(Count_df[1:i,c(\"ZH_ww_b117\", \"ZH_ww_wt\")]) ~ Count_df$day[1:i], family=\"quasibinomial\",\n",
    "                  start=c(-6,0.1))\n",
    "    ZH_clinfit = glm(as.matrix(Count_df[1:i,c(\"ZH_clinical_b117\", \"ZH_clinical_wt\")]) ~ Count_df$day[1:i], family=\"quasibinomial\",\n",
    "                    start=c(-6,0.1))\n",
    "    VD_wwfit = glm(as.matrix(Count_df[1:i,c(\"VD_ww_b117\", \"VD_ww_wt\")]) ~ Count_df$day[1:i], family=\"quasibinomial\",\n",
    "                  start=c(-6,0.1))\n",
    "    VD_clinfit = glm(as.matrix(Count_df[1:i,c(\"VD_clinical_b117\", \"VD_clinical_wt\")]) ~ Count_df$day[1:i], family=\"quasibinomial\",\n",
    "                    start=c(-6,0.1))\n",
    "\n",
    "    coefs <- lapply(list(ZH_wwfit, ZH_clinfit, VD_wwfit, VD_clinfit), function(x){\n",
    "        rbind(c(coef(x)[2], coef(x)[2] + c(-1, 1) * 1.96 * summary(x)$coefficients[2,2]))\n",
    "    })\n",
    "    coefs <- Reduce(function(...) cbind.data.frame(...), coefs)\n",
    "    colnames(coefs) <- paste0(rep(c(\"ZH\", \"VD\"), each=6), \"_\",\n",
    "                              rep(c(\"ww\", \"clinical\"), each=3), \"_\",\n",
    "                              rep(c(\"estimate\", \"q025\", \"q975\"), times=4))\n",
    "    return(coefs)\n",
    "})\n",
    "All_est_df <- Reduce(function(...) rbind(...), All_est)\n",
    "All_est_mat <- as.matrix(All_est_df)\n",
    "All_est_mat_names <- colnames(All_est_df)"
   ]
  },
  {
   "cell_type": "code",
   "execution_count": 27,
   "metadata": {},
   "outputs": [],
   "source": [
    "All_est_df = pd.DataFrame(np.array(All_est_mat))\n",
    "All_est_df.set_axis(All_est_mat_names, axis=1, inplace=True)\n",
    "All_est_df.set_axis(Count_df.index[5:], axis=0, inplace=True)\n"
   ]
  },
  {
   "cell_type": "markdown",
   "metadata": {},
   "source": [
    "# Load city data"
   ]
  },
  {
   "cell_type": "code",
   "execution_count": 41,
   "metadata": {},
   "outputs": [],
   "source": [
    "viollier3 = pd.read_csv(\"Data/data_per_city_short.csv\")\n",
    "viollier3\n",
    "viollier3[\"date\"] = pd.DatetimeIndex(viollier3[\"date\"])\n",
    "viollier3[\"week\"] = viollier3.date.dt.strftime('%W')\n",
    "viollier3[\"year\"] = viollier3.date.dt.strftime('%Y')\n",
    "viollier3[\"date_week\"] = pd.to_datetime(viollier3[\"year\"].astype(str), format='%Y') +\\\n",
    "    pd.to_timedelta(((viollier3[\"week\"].astype(\"int\")-1).mul(7)+3-7).astype(str) + ' days')\n",
    "\n",
    "viollier3_sum = viollier3.groupby([\"date_week\", \"city\"], as_index=False).agg(\"sum\")\n",
    "viollier3_sum[\"frac_b117\"] = viollier3_sum[\"b117\"] / viollier3_sum[\"sequenced\"]\n",
    "viollier3_sum[\"p_pseudo\"] = (viollier3_sum[\"b117\"] + 1) / (viollier3_sum[\"sequenced\"] + 2)\n",
    "viollier3_sum[\"error\"] = 1.96*np.sqrt(viollier3_sum[\"p_pseudo\"]*(1-viollier3_sum[\"p_pseudo\"])/(viollier3_sum[\"sequenced\"]+2))"
   ]
  },
  {
   "cell_type": "code",
   "execution_count": 42,
   "metadata": {},
   "outputs": [],
   "source": [
    "# Prepare ZH city data\n",
    "\n",
    "viollier3[\"wt\"] = viollier3[\"sequenced\"] - viollier3[\"b117\"]\n",
    "ZHyy_clinical_city = viollier3[(viollier3[\"city\"] == \"Zürich\") & (viollier3[\"date\"].isin(ZHdf_cov.T.index))][[\"b117\", \"wt\"]].values\n",
    "\n",
    "ZHxx_clinical_city = (viollier3[(viollier3[\"city\"] == \"Zürich\") & (viollier3[\"date\"].isin(ZHdf_cov.T.index))][\"date\"] - np.datetime64('2020-12-14')) / np.timedelta64(1, 'D')\n",
    "ZHxx_clinical_city = sm.add_constant(ZHxx_clinical_city)\n",
    "ZHxx_clinical_city = ZHxx_clinical\n",
    "\n",
    "# Prepare VD city data\n",
    "\n",
    "VDyy_clinical_city = viollier3[(viollier3[\"city\"] == \"Lausanne\") & (viollier3[\"date\"].isin(ZHdf_cov.T.index))][[\"b117\", \"wt\"]].values\n",
    "\n",
    "VDxx_clinical_city = (viollier3[(viollier3[\"city\"] == \"Lausanne\") & (viollier3[\"date\"].isin(ZHdf_cov.T.index))][\"date\"] - np.datetime64('2020-12-14')) / np.timedelta64(1, 'D')\n",
    "VDxx_clinical_city = sm.add_constant(VDxx_clinical_city)\n",
    "VDxx_clinical_city = VDxx_clinical_city"
   ]
  },
  {
   "cell_type": "markdown",
   "metadata": {},
   "source": [
    "## Vary series length "
   ]
  },
  {
   "cell_type": "code",
   "execution_count": 43,
   "metadata": {},
   "outputs": [],
   "source": [
    "# make one df with all I need\n",
    "viollier3[\"wt\"] = viollier3[\"sequenced\"] - viollier3[\"b117\"]\n",
    "viollier3.index = viollier3.date\n",
    "\n",
    "# make ZH ww df\n",
    "ZHwwdf = pd.DataFrame({\"b117\": ZHdf_counts.sum(axis=0),\n",
    "                       \"wt\": (ZHdf_cov.sum(axis=0) - ZHdf_counts.sum(axis=0))})\n",
    "# make ZH clinical df\n",
    "ZHclinicaldf_city = viollier3[(viollier3[\"city\"] == \"Zürich\") & (viollier3[\"date\"].isin(ZHdf_cov.T.index))][[\"b117\", \"wt\"]]\n",
    "\n",
    "# make VD ww df\n",
    "VDwwdf = pd.DataFrame({\"b117\": VDdf_counts.sum(axis=0),\n",
    "                       \"wt\": (VDdf_cov.sum(axis=0) - VDdf_counts.sum(axis=0))})\n",
    "\n",
    "\n",
    "\n",
    "\n",
    "Count_df2 = pd.concat([ZHwwdf, ZHclinicaldf_city, VDwwdf], axis=1)\n",
    "Count_df2.set_axis([\"ZH_ww_b117\", \"ZH_ww_wt\", \"ZH_clinical_b117\", \"ZH_clinical_wt\",\n",
    "                   \"VD_ww_b117\", \"VD_ww_wt\"], axis = 1, inplace=True)\n",
    "Count_df2[\"day\"] = np.arange(Count_df2.shape[0])\n",
    "Count_array2 = Count_df2.values"
   ]
  },
  {
   "cell_type": "code",
   "execution_count": 44,
   "metadata": {
    "collapsed": true,
    "jupyter": {
     "outputs_hidden": true
    },
    "tags": []
   },
   "outputs": [
    {
     "ename": "AttributeError",
     "evalue": "type object 'DataFrame' has no attribute 'from_items'",
     "output_type": "error",
     "traceback": [
      "\u001b[0;31m---------------------------------------------------------------------------\u001b[0m",
      "\u001b[0;31mAttributeError\u001b[0m                            Traceback (most recent call last)",
      "\u001b[0;32m/var/folders/yt/sy9k0v5j5614lbn7g01dkf6r0000gn/T/ipykernel_16887/1163659292.py\u001b[0m in \u001b[0;36m<module>\u001b[0;34m\u001b[0m\n\u001b[0;32m----> 1\u001b[0;31m \u001b[0mget_ipython\u001b[0m\u001b[0;34m(\u001b[0m\u001b[0;34m)\u001b[0m\u001b[0;34m.\u001b[0m\u001b[0mrun_cell_magic\u001b[0m\u001b[0;34m(\u001b[0m\u001b[0;34m'R'\u001b[0m\u001b[0;34m,\u001b[0m \u001b[0;34m'-i Count_df2'\u001b[0m\u001b[0;34m,\u001b[0m \u001b[0;34m'# This cell will throw an error because some attributes fail to be passed between python and R,\\n# no worries just keep executing the next cells\\n\\n1\\n'\u001b[0m\u001b[0;34m)\u001b[0m\u001b[0;34m\u001b[0m\u001b[0;34m\u001b[0m\u001b[0m\n\u001b[0m",
      "\u001b[0;32m~/miniconda3/envs/rpy2/lib/python3.7/site-packages/IPython/core/interactiveshell.py\u001b[0m in \u001b[0;36mrun_cell_magic\u001b[0;34m(self, magic_name, line, cell)\u001b[0m\n\u001b[1;32m   2417\u001b[0m             \u001b[0;32mwith\u001b[0m \u001b[0mself\u001b[0m\u001b[0;34m.\u001b[0m\u001b[0mbuiltin_trap\u001b[0m\u001b[0;34m:\u001b[0m\u001b[0;34m\u001b[0m\u001b[0;34m\u001b[0m\u001b[0m\n\u001b[1;32m   2418\u001b[0m                 \u001b[0margs\u001b[0m \u001b[0;34m=\u001b[0m \u001b[0;34m(\u001b[0m\u001b[0mmagic_arg_s\u001b[0m\u001b[0;34m,\u001b[0m \u001b[0mcell\u001b[0m\u001b[0;34m)\u001b[0m\u001b[0;34m\u001b[0m\u001b[0;34m\u001b[0m\u001b[0m\n\u001b[0;32m-> 2419\u001b[0;31m                 \u001b[0mresult\u001b[0m \u001b[0;34m=\u001b[0m \u001b[0mfn\u001b[0m\u001b[0;34m(\u001b[0m\u001b[0;34m*\u001b[0m\u001b[0margs\u001b[0m\u001b[0;34m,\u001b[0m \u001b[0;34m**\u001b[0m\u001b[0mkwargs\u001b[0m\u001b[0;34m)\u001b[0m\u001b[0;34m\u001b[0m\u001b[0;34m\u001b[0m\u001b[0m\n\u001b[0m\u001b[1;32m   2420\u001b[0m             \u001b[0;32mreturn\u001b[0m \u001b[0mresult\u001b[0m\u001b[0;34m\u001b[0m\u001b[0;34m\u001b[0m\u001b[0m\n\u001b[1;32m   2421\u001b[0m \u001b[0;34m\u001b[0m\u001b[0m\n",
      "\u001b[0;32m~/miniconda3/envs/rpy2/lib/python3.7/site-packages/decorator.py\u001b[0m in \u001b[0;36mfun\u001b[0;34m(*args, **kw)\u001b[0m\n\u001b[1;32m    230\u001b[0m             \u001b[0;32mif\u001b[0m \u001b[0;32mnot\u001b[0m \u001b[0mkwsyntax\u001b[0m\u001b[0;34m:\u001b[0m\u001b[0;34m\u001b[0m\u001b[0;34m\u001b[0m\u001b[0m\n\u001b[1;32m    231\u001b[0m                 \u001b[0margs\u001b[0m\u001b[0;34m,\u001b[0m \u001b[0mkw\u001b[0m \u001b[0;34m=\u001b[0m \u001b[0mfix\u001b[0m\u001b[0;34m(\u001b[0m\u001b[0margs\u001b[0m\u001b[0;34m,\u001b[0m \u001b[0mkw\u001b[0m\u001b[0;34m,\u001b[0m \u001b[0msig\u001b[0m\u001b[0;34m)\u001b[0m\u001b[0;34m\u001b[0m\u001b[0;34m\u001b[0m\u001b[0m\n\u001b[0;32m--> 232\u001b[0;31m             \u001b[0;32mreturn\u001b[0m \u001b[0mcaller\u001b[0m\u001b[0;34m(\u001b[0m\u001b[0mfunc\u001b[0m\u001b[0;34m,\u001b[0m \u001b[0;34m*\u001b[0m\u001b[0;34m(\u001b[0m\u001b[0mextras\u001b[0m \u001b[0;34m+\u001b[0m \u001b[0margs\u001b[0m\u001b[0;34m)\u001b[0m\u001b[0;34m,\u001b[0m \u001b[0;34m**\u001b[0m\u001b[0mkw\u001b[0m\u001b[0;34m)\u001b[0m\u001b[0;34m\u001b[0m\u001b[0;34m\u001b[0m\u001b[0m\n\u001b[0m\u001b[1;32m    233\u001b[0m     \u001b[0mfun\u001b[0m\u001b[0;34m.\u001b[0m\u001b[0m__name__\u001b[0m \u001b[0;34m=\u001b[0m \u001b[0mfunc\u001b[0m\u001b[0;34m.\u001b[0m\u001b[0m__name__\u001b[0m\u001b[0;34m\u001b[0m\u001b[0;34m\u001b[0m\u001b[0m\n\u001b[1;32m    234\u001b[0m     \u001b[0mfun\u001b[0m\u001b[0;34m.\u001b[0m\u001b[0m__doc__\u001b[0m \u001b[0;34m=\u001b[0m \u001b[0mfunc\u001b[0m\u001b[0;34m.\u001b[0m\u001b[0m__doc__\u001b[0m\u001b[0;34m\u001b[0m\u001b[0;34m\u001b[0m\u001b[0m\n",
      "\u001b[0;32m~/miniconda3/envs/rpy2/lib/python3.7/site-packages/IPython/core/magic.py\u001b[0m in \u001b[0;36m<lambda>\u001b[0;34m(f, *a, **k)\u001b[0m\n\u001b[1;32m    185\u001b[0m     \u001b[0;31m# but it's overkill for just that one bit of state.\u001b[0m\u001b[0;34m\u001b[0m\u001b[0;34m\u001b[0m\u001b[0;34m\u001b[0m\u001b[0m\n\u001b[1;32m    186\u001b[0m     \u001b[0;32mdef\u001b[0m \u001b[0mmagic_deco\u001b[0m\u001b[0;34m(\u001b[0m\u001b[0marg\u001b[0m\u001b[0;34m)\u001b[0m\u001b[0;34m:\u001b[0m\u001b[0;34m\u001b[0m\u001b[0;34m\u001b[0m\u001b[0m\n\u001b[0;32m--> 187\u001b[0;31m         \u001b[0mcall\u001b[0m \u001b[0;34m=\u001b[0m \u001b[0;32mlambda\u001b[0m \u001b[0mf\u001b[0m\u001b[0;34m,\u001b[0m \u001b[0;34m*\u001b[0m\u001b[0ma\u001b[0m\u001b[0;34m,\u001b[0m \u001b[0;34m**\u001b[0m\u001b[0mk\u001b[0m\u001b[0;34m:\u001b[0m \u001b[0mf\u001b[0m\u001b[0;34m(\u001b[0m\u001b[0;34m*\u001b[0m\u001b[0ma\u001b[0m\u001b[0;34m,\u001b[0m \u001b[0;34m**\u001b[0m\u001b[0mk\u001b[0m\u001b[0;34m)\u001b[0m\u001b[0;34m\u001b[0m\u001b[0;34m\u001b[0m\u001b[0m\n\u001b[0m\u001b[1;32m    188\u001b[0m \u001b[0;34m\u001b[0m\u001b[0m\n\u001b[1;32m    189\u001b[0m         \u001b[0;32mif\u001b[0m \u001b[0mcallable\u001b[0m\u001b[0;34m(\u001b[0m\u001b[0marg\u001b[0m\u001b[0;34m)\u001b[0m\u001b[0;34m:\u001b[0m\u001b[0;34m\u001b[0m\u001b[0;34m\u001b[0m\u001b[0m\n",
      "\u001b[0;32m~/miniconda3/envs/rpy2/lib/python3.7/site-packages/rpy2/ipython/rmagic.py\u001b[0m in \u001b[0;36mR\u001b[0;34m(self, line, cell, local_ns)\u001b[0m\n\u001b[1;32m    688\u001b[0m                         \u001b[0;32mraise\u001b[0m \u001b[0mNameError\u001b[0m\u001b[0;34m(\u001b[0m\u001b[0;34m\"name '%s' is not defined\"\u001b[0m \u001b[0;34m%\u001b[0m \u001b[0minput\u001b[0m\u001b[0;34m)\u001b[0m\u001b[0;34m\u001b[0m\u001b[0;34m\u001b[0m\u001b[0m\n\u001b[1;32m    689\u001b[0m                 \u001b[0;32mwith\u001b[0m \u001b[0mlocalconverter\u001b[0m\u001b[0;34m(\u001b[0m\u001b[0mconverter\u001b[0m\u001b[0;34m)\u001b[0m \u001b[0;32mas\u001b[0m \u001b[0mcv\u001b[0m\u001b[0;34m:\u001b[0m\u001b[0;34m\u001b[0m\u001b[0;34m\u001b[0m\u001b[0m\n\u001b[0;32m--> 690\u001b[0;31m                     \u001b[0mro\u001b[0m\u001b[0;34m.\u001b[0m\u001b[0mr\u001b[0m\u001b[0;34m.\u001b[0m\u001b[0massign\u001b[0m\u001b[0;34m(\u001b[0m\u001b[0minput\u001b[0m\u001b[0;34m,\u001b[0m \u001b[0mval\u001b[0m\u001b[0;34m)\u001b[0m\u001b[0;34m\u001b[0m\u001b[0;34m\u001b[0m\u001b[0m\n\u001b[0m\u001b[1;32m    691\u001b[0m \u001b[0;34m\u001b[0m\u001b[0m\n\u001b[1;32m    692\u001b[0m         \u001b[0mtmpd\u001b[0m \u001b[0;34m=\u001b[0m \u001b[0mself\u001b[0m\u001b[0;34m.\u001b[0m\u001b[0msetup_graphics\u001b[0m\u001b[0;34m(\u001b[0m\u001b[0margs\u001b[0m\u001b[0;34m)\u001b[0m\u001b[0;34m\u001b[0m\u001b[0;34m\u001b[0m\u001b[0m\n",
      "\u001b[0;32m~/miniconda3/envs/rpy2/lib/python3.7/site-packages/rpy2/robjects/functions.py\u001b[0m in \u001b[0;36m__call__\u001b[0;34m(self, *args, **kwargs)\u001b[0m\n\u001b[1;32m    176\u001b[0m                 \u001b[0mv\u001b[0m \u001b[0;34m=\u001b[0m \u001b[0mkwargs\u001b[0m\u001b[0;34m.\u001b[0m\u001b[0mpop\u001b[0m\u001b[0;34m(\u001b[0m\u001b[0mk\u001b[0m\u001b[0;34m)\u001b[0m\u001b[0;34m\u001b[0m\u001b[0;34m\u001b[0m\u001b[0m\n\u001b[1;32m    177\u001b[0m                 \u001b[0mkwargs\u001b[0m\u001b[0;34m[\u001b[0m\u001b[0mr_k\u001b[0m\u001b[0;34m]\u001b[0m \u001b[0;34m=\u001b[0m \u001b[0mv\u001b[0m\u001b[0;34m\u001b[0m\u001b[0;34m\u001b[0m\u001b[0m\n\u001b[0;32m--> 178\u001b[0;31m         \u001b[0;32mreturn\u001b[0m \u001b[0msuper\u001b[0m\u001b[0;34m(\u001b[0m\u001b[0mSignatureTranslatedFunction\u001b[0m\u001b[0;34m,\u001b[0m \u001b[0mself\u001b[0m\u001b[0;34m)\u001b[0m\u001b[0;34m.\u001b[0m\u001b[0m__call__\u001b[0m\u001b[0;34m(\u001b[0m\u001b[0;34m*\u001b[0m\u001b[0margs\u001b[0m\u001b[0;34m,\u001b[0m \u001b[0;34m**\u001b[0m\u001b[0mkwargs\u001b[0m\u001b[0;34m)\u001b[0m\u001b[0;34m\u001b[0m\u001b[0;34m\u001b[0m\u001b[0m\n\u001b[0m\u001b[1;32m    179\u001b[0m \u001b[0;34m\u001b[0m\u001b[0m\n\u001b[1;32m    180\u001b[0m \u001b[0mpattern_link\u001b[0m \u001b[0;34m=\u001b[0m \u001b[0mre\u001b[0m\u001b[0;34m.\u001b[0m\u001b[0mcompile\u001b[0m\u001b[0;34m(\u001b[0m\u001b[0;34mr'\\\\link\\{(.+?)\\}'\u001b[0m\u001b[0;34m)\u001b[0m\u001b[0;34m\u001b[0m\u001b[0;34m\u001b[0m\u001b[0m\n",
      "\u001b[0;32m~/miniconda3/envs/rpy2/lib/python3.7/site-packages/rpy2/robjects/functions.py\u001b[0m in \u001b[0;36m__call__\u001b[0;34m(self, *args, **kwargs)\u001b[0m\n\u001b[1;32m    105\u001b[0m             \u001b[0mnew_kwargs\u001b[0m\u001b[0;34m[\u001b[0m\u001b[0mk\u001b[0m\u001b[0;34m]\u001b[0m \u001b[0;34m=\u001b[0m \u001b[0mconversion\u001b[0m\u001b[0;34m.\u001b[0m\u001b[0mpy2ri\u001b[0m\u001b[0;34m(\u001b[0m\u001b[0mv\u001b[0m\u001b[0;34m)\u001b[0m\u001b[0;34m\u001b[0m\u001b[0;34m\u001b[0m\u001b[0m\n\u001b[1;32m    106\u001b[0m         \u001b[0mres\u001b[0m \u001b[0;34m=\u001b[0m \u001b[0msuper\u001b[0m\u001b[0;34m(\u001b[0m\u001b[0mFunction\u001b[0m\u001b[0;34m,\u001b[0m \u001b[0mself\u001b[0m\u001b[0;34m)\u001b[0m\u001b[0;34m.\u001b[0m\u001b[0m__call__\u001b[0m\u001b[0;34m(\u001b[0m\u001b[0;34m*\u001b[0m\u001b[0mnew_args\u001b[0m\u001b[0;34m,\u001b[0m \u001b[0;34m**\u001b[0m\u001b[0mnew_kwargs\u001b[0m\u001b[0;34m)\u001b[0m\u001b[0;34m\u001b[0m\u001b[0;34m\u001b[0m\u001b[0m\n\u001b[0;32m--> 107\u001b[0;31m         \u001b[0mres\u001b[0m \u001b[0;34m=\u001b[0m \u001b[0mconversion\u001b[0m\u001b[0;34m.\u001b[0m\u001b[0mri2ro\u001b[0m\u001b[0;34m(\u001b[0m\u001b[0mres\u001b[0m\u001b[0;34m)\u001b[0m\u001b[0;34m\u001b[0m\u001b[0;34m\u001b[0m\u001b[0m\n\u001b[0m\u001b[1;32m    108\u001b[0m         \u001b[0;32mreturn\u001b[0m \u001b[0mres\u001b[0m\u001b[0;34m\u001b[0m\u001b[0;34m\u001b[0m\u001b[0m\n\u001b[1;32m    109\u001b[0m \u001b[0;34m\u001b[0m\u001b[0m\n",
      "\u001b[0;32m~/miniconda3/envs/rpy2/lib/python3.7/functools.py\u001b[0m in \u001b[0;36mwrapper\u001b[0;34m(*args, **kw)\u001b[0m\n\u001b[1;32m    838\u001b[0m                             '1 positional argument')\n\u001b[1;32m    839\u001b[0m \u001b[0;34m\u001b[0m\u001b[0m\n\u001b[0;32m--> 840\u001b[0;31m         \u001b[0;32mreturn\u001b[0m \u001b[0mdispatch\u001b[0m\u001b[0;34m(\u001b[0m\u001b[0margs\u001b[0m\u001b[0;34m[\u001b[0m\u001b[0;36m0\u001b[0m\u001b[0;34m]\u001b[0m\u001b[0;34m.\u001b[0m\u001b[0m__class__\u001b[0m\u001b[0;34m)\u001b[0m\u001b[0;34m(\u001b[0m\u001b[0;34m*\u001b[0m\u001b[0margs\u001b[0m\u001b[0;34m,\u001b[0m \u001b[0;34m**\u001b[0m\u001b[0mkw\u001b[0m\u001b[0;34m)\u001b[0m\u001b[0;34m\u001b[0m\u001b[0;34m\u001b[0m\u001b[0m\n\u001b[0m\u001b[1;32m    841\u001b[0m \u001b[0;34m\u001b[0m\u001b[0m\n\u001b[1;32m    842\u001b[0m     \u001b[0mfuncname\u001b[0m \u001b[0;34m=\u001b[0m \u001b[0mgetattr\u001b[0m\u001b[0;34m(\u001b[0m\u001b[0mfunc\u001b[0m\u001b[0;34m,\u001b[0m \u001b[0;34m'__name__'\u001b[0m\u001b[0;34m,\u001b[0m \u001b[0;34m'singledispatch function'\u001b[0m\u001b[0;34m)\u001b[0m\u001b[0;34m\u001b[0m\u001b[0;34m\u001b[0m\u001b[0m\n",
      "\u001b[0;32m~/miniconda3/envs/rpy2/lib/python3.7/site-packages/rpy2/ipython/rmagic.py\u001b[0m in \u001b[0;36m_\u001b[0;34m(obj)\u001b[0m\n\u001b[1;32m    147\u001b[0m     \u001b[0;32mif\u001b[0m \u001b[0;34m'data.frame'\u001b[0m \u001b[0;32min\u001b[0m \u001b[0mobj\u001b[0m\u001b[0;34m.\u001b[0m\u001b[0mrclass\u001b[0m\u001b[0;34m:\u001b[0m\u001b[0;34m\u001b[0m\u001b[0;34m\u001b[0m\u001b[0m\n\u001b[1;32m    148\u001b[0m         \u001b[0;31m# request to turn it to a pandas DataFrame\u001b[0m\u001b[0;34m\u001b[0m\u001b[0;34m\u001b[0m\u001b[0;34m\u001b[0m\u001b[0m\n\u001b[0;32m--> 149\u001b[0;31m         \u001b[0mres\u001b[0m \u001b[0;34m=\u001b[0m \u001b[0mconverter\u001b[0m\u001b[0;34m.\u001b[0m\u001b[0mri2py\u001b[0m\u001b[0;34m(\u001b[0m\u001b[0mobj\u001b[0m\u001b[0;34m)\u001b[0m\u001b[0;34m\u001b[0m\u001b[0;34m\u001b[0m\u001b[0m\n\u001b[0m\u001b[1;32m    150\u001b[0m     \u001b[0;32melse\u001b[0m\u001b[0;34m:\u001b[0m\u001b[0;34m\u001b[0m\u001b[0;34m\u001b[0m\u001b[0m\n\u001b[1;32m    151\u001b[0m         \u001b[0mres\u001b[0m \u001b[0;34m=\u001b[0m \u001b[0mro\u001b[0m\u001b[0;34m.\u001b[0m\u001b[0msexpvector_to_ro\u001b[0m\u001b[0;34m(\u001b[0m\u001b[0mobj\u001b[0m\u001b[0;34m)\u001b[0m\u001b[0;34m\u001b[0m\u001b[0;34m\u001b[0m\u001b[0m\n",
      "\u001b[0;32m~/miniconda3/envs/rpy2/lib/python3.7/functools.py\u001b[0m in \u001b[0;36mwrapper\u001b[0;34m(*args, **kw)\u001b[0m\n\u001b[1;32m    838\u001b[0m                             '1 positional argument')\n\u001b[1;32m    839\u001b[0m \u001b[0;34m\u001b[0m\u001b[0m\n\u001b[0;32m--> 840\u001b[0;31m         \u001b[0;32mreturn\u001b[0m \u001b[0mdispatch\u001b[0m\u001b[0;34m(\u001b[0m\u001b[0margs\u001b[0m\u001b[0;34m[\u001b[0m\u001b[0;36m0\u001b[0m\u001b[0;34m]\u001b[0m\u001b[0;34m.\u001b[0m\u001b[0m__class__\u001b[0m\u001b[0;34m)\u001b[0m\u001b[0;34m(\u001b[0m\u001b[0;34m*\u001b[0m\u001b[0margs\u001b[0m\u001b[0;34m,\u001b[0m \u001b[0;34m**\u001b[0m\u001b[0mkw\u001b[0m\u001b[0;34m)\u001b[0m\u001b[0;34m\u001b[0m\u001b[0;34m\u001b[0m\u001b[0m\n\u001b[0m\u001b[1;32m    841\u001b[0m \u001b[0;34m\u001b[0m\u001b[0m\n\u001b[1;32m    842\u001b[0m     \u001b[0mfuncname\u001b[0m \u001b[0;34m=\u001b[0m \u001b[0mgetattr\u001b[0m\u001b[0;34m(\u001b[0m\u001b[0mfunc\u001b[0m\u001b[0;34m,\u001b[0m \u001b[0;34m'__name__'\u001b[0m\u001b[0;34m,\u001b[0m \u001b[0;34m'singledispatch function'\u001b[0m\u001b[0;34m)\u001b[0m\u001b[0;34m\u001b[0m\u001b[0;34m\u001b[0m\u001b[0m\n",
      "\u001b[0;32m~/miniconda3/envs/rpy2/lib/python3.7/site-packages/rpy2/robjects/pandas2ri.py\u001b[0m in \u001b[0;36mri2py_listvector\u001b[0;34m(obj)\u001b[0m\n\u001b[1;32m    181\u001b[0m \u001b[0;32mdef\u001b[0m \u001b[0mri2py_listvector\u001b[0m\u001b[0;34m(\u001b[0m\u001b[0mobj\u001b[0m\u001b[0;34m)\u001b[0m\u001b[0;34m:\u001b[0m\u001b[0;34m\u001b[0m\u001b[0;34m\u001b[0m\u001b[0m\n\u001b[1;32m    182\u001b[0m     \u001b[0;32mif\u001b[0m \u001b[0;34m'data.frame'\u001b[0m \u001b[0;32min\u001b[0m \u001b[0mobj\u001b[0m\u001b[0;34m.\u001b[0m\u001b[0mrclass\u001b[0m\u001b[0;34m:\u001b[0m\u001b[0;34m\u001b[0m\u001b[0;34m\u001b[0m\u001b[0m\n\u001b[0;32m--> 183\u001b[0;31m         \u001b[0mres\u001b[0m \u001b[0;34m=\u001b[0m \u001b[0mri2py\u001b[0m\u001b[0;34m(\u001b[0m\u001b[0mDataFrame\u001b[0m\u001b[0;34m(\u001b[0m\u001b[0mobj\u001b[0m\u001b[0;34m)\u001b[0m\u001b[0;34m)\u001b[0m\u001b[0;34m\u001b[0m\u001b[0;34m\u001b[0m\u001b[0m\n\u001b[0m\u001b[1;32m    184\u001b[0m     \u001b[0;32melse\u001b[0m\u001b[0;34m:\u001b[0m\u001b[0;34m\u001b[0m\u001b[0;34m\u001b[0m\u001b[0m\n\u001b[1;32m    185\u001b[0m         \u001b[0mres\u001b[0m \u001b[0;34m=\u001b[0m \u001b[0mnumpy2ri\u001b[0m\u001b[0;34m.\u001b[0m\u001b[0mri2py\u001b[0m\u001b[0;34m(\u001b[0m\u001b[0mobj\u001b[0m\u001b[0;34m)\u001b[0m\u001b[0;34m\u001b[0m\u001b[0;34m\u001b[0m\u001b[0m\n",
      "\u001b[0;32m~/miniconda3/envs/rpy2/lib/python3.7/functools.py\u001b[0m in \u001b[0;36mwrapper\u001b[0;34m(*args, **kw)\u001b[0m\n\u001b[1;32m    838\u001b[0m                             '1 positional argument')\n\u001b[1;32m    839\u001b[0m \u001b[0;34m\u001b[0m\u001b[0m\n\u001b[0;32m--> 840\u001b[0;31m         \u001b[0;32mreturn\u001b[0m \u001b[0mdispatch\u001b[0m\u001b[0;34m(\u001b[0m\u001b[0margs\u001b[0m\u001b[0;34m[\u001b[0m\u001b[0;36m0\u001b[0m\u001b[0;34m]\u001b[0m\u001b[0;34m.\u001b[0m\u001b[0m__class__\u001b[0m\u001b[0;34m)\u001b[0m\u001b[0;34m(\u001b[0m\u001b[0;34m*\u001b[0m\u001b[0margs\u001b[0m\u001b[0;34m,\u001b[0m \u001b[0;34m**\u001b[0m\u001b[0mkw\u001b[0m\u001b[0;34m)\u001b[0m\u001b[0;34m\u001b[0m\u001b[0;34m\u001b[0m\u001b[0m\n\u001b[0m\u001b[1;32m    841\u001b[0m \u001b[0;34m\u001b[0m\u001b[0m\n\u001b[1;32m    842\u001b[0m     \u001b[0mfuncname\u001b[0m \u001b[0;34m=\u001b[0m \u001b[0mgetattr\u001b[0m\u001b[0;34m(\u001b[0m\u001b[0mfunc\u001b[0m\u001b[0;34m,\u001b[0m \u001b[0;34m'__name__'\u001b[0m\u001b[0;34m,\u001b[0m \u001b[0;34m'singledispatch function'\u001b[0m\u001b[0;34m)\u001b[0m\u001b[0;34m\u001b[0m\u001b[0;34m\u001b[0m\u001b[0m\n",
      "\u001b[0;32m~/miniconda3/envs/rpy2/lib/python3.7/site-packages/rpy2/robjects/pandas2ri.py\u001b[0m in \u001b[0;36mri2py_dataframe\u001b[0;34m(obj)\u001b[0m\n\u001b[1;32m    189\u001b[0m \u001b[0;32mdef\u001b[0m \u001b[0mri2py_dataframe\u001b[0m\u001b[0;34m(\u001b[0m\u001b[0mobj\u001b[0m\u001b[0;34m)\u001b[0m\u001b[0;34m:\u001b[0m\u001b[0;34m\u001b[0m\u001b[0;34m\u001b[0m\u001b[0m\n\u001b[1;32m    190\u001b[0m     \u001b[0mitems\u001b[0m \u001b[0;34m=\u001b[0m \u001b[0mtuple\u001b[0m\u001b[0;34m(\u001b[0m\u001b[0;34m(\u001b[0m\u001b[0mk\u001b[0m\u001b[0;34m,\u001b[0m \u001b[0mri2py\u001b[0m\u001b[0;34m(\u001b[0m\u001b[0mv\u001b[0m\u001b[0;34m)\u001b[0m\u001b[0;34m)\u001b[0m \u001b[0;32mfor\u001b[0m \u001b[0mk\u001b[0m\u001b[0;34m,\u001b[0m \u001b[0mv\u001b[0m \u001b[0;32min\u001b[0m \u001b[0mobj\u001b[0m\u001b[0;34m.\u001b[0m\u001b[0mitems\u001b[0m\u001b[0;34m(\u001b[0m\u001b[0;34m)\u001b[0m\u001b[0;34m)\u001b[0m\u001b[0;34m\u001b[0m\u001b[0;34m\u001b[0m\u001b[0m\n\u001b[0;32m--> 191\u001b[0;31m     \u001b[0mres\u001b[0m \u001b[0;34m=\u001b[0m \u001b[0mPandasDataFrame\u001b[0m\u001b[0;34m.\u001b[0m\u001b[0mfrom_items\u001b[0m\u001b[0;34m(\u001b[0m\u001b[0mitems\u001b[0m\u001b[0;34m)\u001b[0m\u001b[0;34m\u001b[0m\u001b[0;34m\u001b[0m\u001b[0m\n\u001b[0m\u001b[1;32m    192\u001b[0m     \u001b[0;32mreturn\u001b[0m \u001b[0mres\u001b[0m\u001b[0;34m\u001b[0m\u001b[0;34m\u001b[0m\u001b[0m\n\u001b[1;32m    193\u001b[0m \u001b[0;34m\u001b[0m\u001b[0m\n",
      "\u001b[0;31mAttributeError\u001b[0m: type object 'DataFrame' has no attribute 'from_items'"
     ]
    }
   ],
   "source": [
    "%%R -i Count_df2\n",
    "# This cell will throw an error because some attributes fail to be passed between python and R,\n",
    "# no worries just keep executing the next cells\n",
    "\n",
    "1"
   ]
  },
  {
   "cell_type": "code",
   "execution_count": 45,
   "metadata": {},
   "outputs": [],
   "source": [
    "%%R -o ZHclincitydf1\n",
    "ZHclincitydf1 <- lapply(10:68, function(i){\n",
    "    mod <- glm(as.matrix(Count_df2[1:i,c(\"ZH_clinical_b117\", \"ZH_clinical_wt\")]) ~ Count_df2$day[1:i], family=\"quasibinomial\",\n",
    "                    start=c(-6,0.1))\n",
    "    rbind(c(coef(mod)[2], coef(mod)[2] + c(-1, 1) * 1.96 * summary(mod)$coefficients[2,2]))\n",
    "})\n",
    "ZHclincitydf1 <- Reduce(function(...) rbind(...), ZHclincitydf1)\n",
    "ZHclincitydf1 <- as.matrix(ZHclincitydf1)"
   ]
  },
  {
   "cell_type": "markdown",
   "metadata": {},
   "source": [
    "# Do different versions of online estimate plot"
   ]
  },
  {
   "cell_type": "code",
   "execution_count": 46,
   "metadata": {},
   "outputs": [],
   "source": [
    "def fitness_discr(a, g=4.8):\n",
    "    return np.exp(a*g)-1"
   ]
  },
  {
   "cell_type": "code",
   "execution_count": 47,
   "metadata": {},
   "outputs": [
    {
     "name": "stderr",
     "output_type": "stream",
     "text": [
      "/Users/gneiss/miniconda3/envs/rpy2/lib/python3.7/site-packages/pandas/core/arraylike.py:364: RuntimeWarning: overflow encountered in exp\n",
      "  result = getattr(ufunc, method)(*inputs, **kwargs)\n",
      "/Users/gneiss/miniconda3/envs/rpy2/lib/python3.7/site-packages/pandas/core/arraylike.py:364: RuntimeWarning: overflow encountered in exp\n",
      "  result = getattr(ufunc, method)(*inputs, **kwargs)\n",
      "/Users/gneiss/miniconda3/envs/rpy2/lib/python3.7/site-packages/pandas/core/arraylike.py:364: RuntimeWarning: overflow encountered in exp\n",
      "  result = getattr(ufunc, method)(*inputs, **kwargs)\n"
     ]
    },
    {
     "data": {
      "image/png": "[encoded data removed]",
      "text/plain": [
       "<Figure size 2160x432 with 2 Axes>"
      ]
     },
     "metadata": {
      "needs_background": "light"
     },
     "output_type": "display_data"
    }
   ],
   "source": [
    "fig, axes = plt.subplots(ncols=2, figsize=(30, 6))\n",
    "\n",
    "sns.lineplot(x=All_est_df.index[All_est_df.index>np.datetime64(\"2020-12-22\")],\n",
    "             y=fitness_discr(All_est_df[\"ZH_ww_estimate\"][All_est_df.index>np.datetime64(\"2020-12-22\")]),\n",
    "             ax=axes[0], \n",
    "             label=\"city wastewater\")\n",
    "axes[0].fill_between(All_est_df.index[All_est_df.index>np.datetime64(\"2020-12-22\")], \n",
    "                       fitness_discr(All_est_df[\"ZH_ww_q025\"][All_est_df.index>np.datetime64(\"2020-12-22\")]),\n",
    "                       fitness_discr(All_est_df[\"ZH_ww_q975\"][All_est_df.index>np.datetime64(\"2020-12-22\")]),\n",
    "                       alpha=.2)\n",
    "\n",
    "# axes[0].axhline(np.array(ZHclincitydf1)[-1:,0], linestyle=\"--\", color=\"orange\")\n",
    "# axes[0].axhline(np.array(ZHclincitydf1)[-1:,1], linestyle=\":\", color=\"orange\")\n",
    "# axes[0].axhline(np.array(ZHclincitydf1)[-1:,2], linestyle=\":\", color=\"orange\")\n",
    "\n",
    "sns.lineplot(x=All_est_df.index[All_est_df.index > np.datetime64('2020-12-14')],\n",
    "             y=fitness_discr(All_est_df[\"ZH_clinical_estimate\"][All_est_df.index > np.datetime64('2020-12-14')]),\n",
    "             ax=axes[0],\n",
    "             label=\"clinical cantonal\")\n",
    "axes[0].fill_between(All_est_df.index[All_est_df.index > np.datetime64('2020-12-14')], \n",
    "                       fitness_discr(All_est_df[\"ZH_clinical_q025\"][All_est_df.index > np.datetime64('2020-12-14')]),\n",
    "                       fitness_discr(All_est_df[\"ZH_clinical_q975\"][All_est_df.index > np.datetime64('2020-12-14')]),\n",
    "                       alpha=.2)\n",
    "\n",
    "sns.lineplot(x=Count_df2.index[-28:],\n",
    "             y=fitness_discr(np.array(ZHclincitydf1)[-28:,0]),\n",
    "             ax=axes[0],\n",
    "             label=\"city clinical\")\n",
    "axes[0].fill_between(Count_df2.index[-28:],\n",
    "                     fitness_discr(np.array(ZHclincitydf1)[-28:,1]),\n",
    "                     fitness_discr(np.array(ZHclincitydf1)[-28:,2]),\n",
    "                     alpha=.2)\n",
    "\n",
    "axes[0].axhline(fitness_discr(0.09), linestyle=\"-\", color=\"black\", label=\"clinical regional\")\n",
    "# axes[0].axhline(fitness_discr(0.07), linestyle=\":\", color=\"black\")\n",
    "# axes[0].axhline(fitness_discr(0.11), linestyle=\":\", color=\"black\")\n",
    "axes[0].fill_between(All_est_df.index[All_est_df.index>np.datetime64(\"2020-12-22\")], \n",
    "                     fitness_discr(0.07),\n",
    "                     fitness_discr(0.11), color=\"black\", alpha=.2)\n",
    "\n",
    "\n",
    "\n",
    "\n",
    "### Lausanne\n",
    "\n",
    "sns.lineplot(x=All_est_df.index[All_est_df.index>np.datetime64(\"2020-12-22\")],\n",
    "             y=fitness_discr(All_est_df[\"VD_ww_estimate\"][All_est_df.index>np.datetime64(\"2020-12-22\")]),\n",
    "             ax=axes[1], \n",
    "             label=\"city wastewater\")\n",
    "axes[1].fill_between(All_est_df.index[All_est_df.index>np.datetime64(\"2020-12-22\")], \n",
    "                       fitness_discr(All_est_df[\"VD_ww_q025\"][All_est_df.index>np.datetime64(\"2020-12-22\")]),\n",
    "                       fitness_discr(All_est_df[\"VD_ww_q975\"][All_est_df.index>np.datetime64(\"2020-12-22\")]),\n",
    "                       alpha=.2)\n",
    "\n",
    "sns.lineplot(x=All_est_df.index[All_est_df.index > np.datetime64('2021-01-04')],\n",
    "             y=fitness_discr(All_est_df[\"VD_clinical_estimate\"][All_est_df.index > np.datetime64('2021-01-04')]),\n",
    "             ax=axes[1],\n",
    "             label=\"clinical cantonal\")\n",
    "axes[1].fill_between(All_est_df.index[All_est_df.index > np.datetime64('2021-01-04')], \n",
    "                       fitness_discr(All_est_df[\"VD_clinical_q025\"][All_est_df.index > np.datetime64('2021-01-04')]),\n",
    "                       fitness_discr(All_est_df[\"VD_clinical_q975\"][All_est_df.index > np.datetime64('2021-01-04')]),\n",
    "                       alpha=.2)\n",
    "\n",
    "axes[1].axhline(fitness_discr(0.11), linestyle=\"-\", color=\"black\", label=\"clinical regional\")\n",
    "# axes[1].axhline(fitness_discr(0.09), linestyle=\":\", color=\"black\")\n",
    "# axes[1].axhline(fitness_discr(0.14), linestyle=\":\", color=\"black\")\n",
    "axes[1].fill_between(All_est_df.index[All_est_df.index>np.datetime64(\"2020-12-22\")], \n",
    "                     fitness_discr(0.09),\n",
    "                     fitness_discr(0.14), color=\"black\", alpha=.2)\n",
    "\n",
    "axes[0].set_ylim((0, 2))\n",
    "axes[0].set_title(\"Zürich (ZH)\")\n",
    "axes[0].set_ylabel(r\"$f_d$ online estimate\")\n",
    "axes[0].set_xlim((np.datetime64(\"2020-12-08\"), np.datetime64(\"2021-02-11\")))\n",
    "axes[0].legend(loc='upper left')\n",
    "\n",
    "axes[1].set_ylim((0, 2))\n",
    "axes[1].set_xlim((np.datetime64(\"2020-12-08\"), np.datetime64(\"2021-02-13\")))\n",
    "axes[1].set_title(\"Lausanne (VD)\")\n",
    "axes[1].set_ylabel(r\"$f_d$ online estimate\")\n",
    "axes[1].legend(loc='upper left')\n",
    "axes[0].set_xticks([\"2020-12-15\", \"2021-01-01\", \"2021-01-15\", \"2021-02-01\"])\n",
    "axes[1].set_xticks([\"2020-12-15\", \"2021-01-01\", \"2021-01-15\", \"2021-02-01\"])\n",
    "\n",
    "# axes[1].set_xticklabels(rotation=90, ha='center')\n",
    "# labs1 = axes[1].get_xticklabels\n",
    "# fig.autofmt_xdate()\n",
    "plt.savefig(\"plots/fd_plot1.pdf\")"
   ]
  },
  {
   "cell_type": "code",
   "execution_count": 35,
   "metadata": {},
   "outputs": [
    {
     "name": "stdout",
     "output_type": "stream",
     "text": [
      "3.7.7 (default, Mar 23 2020, 17:31:31) \n",
      "[Clang 4.0.1 (tags/RELEASE_401/final)]\n",
      "0.13.0\n"
     ]
    }
   ],
   "source": [
    "import sys\n",
    "print(sys.version)\n",
    "print(sm.__version__)"
   ]
  },
  {
   "cell_type": "code",
   "execution_count": 36,
   "metadata": {},
   "outputs": [
    {
     "data": {
      "text/plain": [
       "R version 3.6.1 (2019-07-05)\n",
       "Platform: x86_64-apple-darwin13.4.0 (64-bit)\n",
       "Running under: macOS  10.16\n",
       "\n",
       "Matrix products: default\n",
       "LAPACK: /Users/gneiss/miniconda3/envs/rpy2/lib/R/lib/libRblas.dylib\n",
       "\n",
       "locale:\n",
       "[1] C/UTF-8/C/C/C/C\n",
       "\n",
       "attached base packages:\n",
       "[1] tools     stats     graphics  grDevices utils     datasets  methods  \n",
       "[8] base     \n",
       "\n",
       "loaded via a namespace (and not attached):\n",
       "[1] MASS_7.3-51.3  compiler_3.6.1\n"
      ]
     },
     "metadata": {},
     "output_type": "display_data"
    }
   ],
   "source": [
    "%%R\n",
    "sessionInfo()"
   ]
  }
 ],
 "metadata": {
  "kernelspec": {
   "display_name": "rpy2",
   "language": "python",
   "name": "rpy2"
  },
  "language_info": {
   "codemirror_mode": {
    "name": "ipython",
    "version": 3
   },
   "file_extension": ".py",
   "mimetype": "text/x-python",
   "name": "python",
   "nbconvert_exporter": "python",
   "pygments_lexer": "ipython3",
   "version": "3.7.7"
  }
 },
 "nbformat": 4,
 "nbformat_minor": 4
}
