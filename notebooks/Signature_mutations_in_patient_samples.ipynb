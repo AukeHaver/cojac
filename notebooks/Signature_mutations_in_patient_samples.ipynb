{
 "cells": [
  {
   "cell_type": "markdown",
   "metadata": {},
   "source": [
    "# Signature mutations in patient samples\n",
    "\n",
    "Notebook to assess the prevalence of signature mutation defining the lineages B.1.1.7 and 501.V2 in all 5758 non-B.1.1.7 and non-501.V2 consensus sequences from GISAID obtained from clinical samples collected in Switzerland before December 24. "
   ]
  },
  {
   "cell_type": "code",
   "execution_count": null,
   "metadata": {},
   "outputs": [],
   "source": [
    "import pandas as pd"
   ]
  },
  {
   "cell_type": "code",
   "execution_count": null,
   "metadata": {},
   "outputs": [],
   "source": [
    "def count_UK_mutations(sequence):\n",
    "    '''\n",
    "    sequence: sequence as string\n",
    "    return:   dict with counts of the signature mutations of the B.1.1.7 lineage \n",
    "              and list of co-occurring mutations. \n",
    "    '''\n",
    "    \n",
    "    C3267T =0\n",
    "    C5388A =0\n",
    "    T6954C =0\n",
    "    del_11288_11296=0\n",
    "    del_21765_21770=0\n",
    "    del_21991_21993=0\n",
    "    A23063T=0\n",
    "    C23271A=0\n",
    "    C23604A=0\n",
    "    C23709T=0\n",
    "    T24506G=0\n",
    "    G24914C=0\n",
    "    C27972T=0\n",
    "    G28048T=0\n",
    "    A28111G=0\n",
    "    C28977T=0\n",
    "    GAT28280CTA=0\n",
    "        \n",
    "    if sequence[3266] in {\"t\",'T'}:\n",
    "        C3267T+=1\n",
    "    if sequence[5387] in {\"a\",\"A\"}:\n",
    "        C5388A+=1\n",
    "    if sequence[6953]in {\"c\", \"C\"}:\n",
    "        T6954C+=1\n",
    "    if sequence[11287:11295]=='--------':\n",
    "        del_11288_11296+=1\n",
    "    if sequence[21764:21769]=='-----':\n",
    "        del_21765_21770+=1\n",
    "    if sequence[21990:21992]=='--':\n",
    "        del_21991_21993+=1\n",
    "    if sequence[23062] in {\"t\",'T'}:\n",
    "        A23063T+=1\n",
    "    if sequence[23270] in {\"a\", 'A'}:\n",
    "        C23271A+=1\n",
    "    if sequence[23603] in {\"a\",\"A\"}:\n",
    "        C23604A+=1\n",
    "    if sequence[23708] in {\"t\", \"T\"}:\n",
    "        C23709T+=1\n",
    "    if sequence[24505] in {\"g\", 'G'}:\n",
    "        T24506G+=1\n",
    "    if sequence[24913] in {\"c\", 'C'}:\n",
    "        G24914C+=1\n",
    "    if sequence[27971] in {\"t\", \"T\"}:\n",
    "        C27972T+=1\n",
    "    if sequence[28047] in {\"t\", 'T'}:\n",
    "        G28048T+=1\n",
    "    if sequence[28110] in {\"g\",'G'}:\n",
    "        A28111G+=1\n",
    "    if sequence[28976] in {\"t\", 'T'}:\n",
    "        C28977T+=1\n",
    "    if sequence[28279:28282] in {\"cta\", 'CTA'}:\n",
    "        GAT28280CTA+=1\n",
    "    \n",
    "        \n",
    "    #sum of mutations found in current consensus sequence \n",
    "    sum =C3267T+C5388A+T6954C+del_11288_11296+del_21765_21770+del_21991_21993+A23063T+C23271A+C23604A+C23709T+T24506G+G24914C+C27972T+G28048T+A28111G+C28977T+GAT28280CTA\n",
    "    \n",
    "    # check for co-occurence of mutations\n",
    "    UK_mut_list = [('C3267T', C3267T),('C5388A', C5388A),('T6954C', T6954C),('del_11288_11296', del_11288_11296),\n",
    "                   ('del_21765_21770', del_21765_21770),('del_21991_21993', del_21765_21770),('A23063T', A23063T),\n",
    "                   ('C23271A', C23271A),('C23604A', C23604A),('C23709T', C23709T), ('T24506G', T24506G), \n",
    "                   ('G24914C', G24914C), ('C27972T', C27972T), ('G28048T', G28048T), ('A28111G', A28111G), \n",
    "                   ('C28977T', C28977T), ('GAT28280CTA', GAT28280CTA)]\n",
    "    list = []\n",
    "    if sum>1:\n",
    "        for mut in UK_mut_list:\n",
    "            if mut[1]>0:\n",
    "                list.append(mut[0])\n",
    "        \n",
    "    \n",
    "    # write information about current consensus sequence (sample) to the new dataframe\n",
    "    dict={'sum': sum,\n",
    "          'co_occ': list,\n",
    "          'C3267T':C3267T,\n",
    "          'C5388A': C5388A,\n",
    "          'T6954C': T6954C, \n",
    "          'del_11288_11296': del_11288_11296,\n",
    "          'del_21765_21770': del_21765_21770,\n",
    "          'del_21991_21993': del_21991_21993, \n",
    "          'A23063T': A23063T, \n",
    "          'C23271A': C23271A,\n",
    "          'C23604A': C23604A, \n",
    "          'C23709T': C23709T,\n",
    "          'T24506G': T24506G,\n",
    "          'G24914C': G24914C,\n",
    "          'C27972T': C27972T,\n",
    "          'G28048T': G28048T,\n",
    "          'A28111G': A28111G,\n",
    "          'C28977T': C28977T,\n",
    "          'GAT28280CTA': GAT28280CTA}\n",
    "    return dict\n",
    "    "
   ]
  },
  {
   "cell_type": "code",
   "execution_count": null,
   "metadata": {},
   "outputs": [],
   "source": [
    "def count_SA_mutations(sequence):\n",
    "    '''\n",
    "    sequence: sequence as string\n",
    "    return:   dict with counts of the signature mutations of the 501.V2 lineage \n",
    "              and list of co-occurring mutations. \n",
    "    '''\n",
    "    C1059T =0\n",
    "    G5230T=0\n",
    "    A10323G=0\n",
    "    A21801C=0\n",
    "    G22813T=0\n",
    "    G23012A=0\n",
    "    A23063T=0\n",
    "    C23664T=0\n",
    "    G25563T=0\n",
    "    C25904T=0\n",
    "    C26456T=0\n",
    "    C28887T=0\n",
    "    \n",
    "    if sequence[1058] in {\"t\", 'T'}:\n",
    "        C1059T+=1\n",
    "    if sequence[5229] in {\"t\", 'T'}:\n",
    "        G5230T+=1\n",
    "    if sequence[10322]in {'g', 'G'}:\n",
    "        A10323G+=1\n",
    "    if sequence[21800] in {\"c\", 'C'}:\n",
    "        A21801C+=1\n",
    "    if sequence[22812] in {\"t\", 'T'}:\n",
    "        G22813T+=1\n",
    "    if sequence[23011] in {\"a\", 'A'}:\n",
    "        G23012A+=1\n",
    "    if sequence[23062] in {\"t\", 'T'}:\n",
    "        A23063T+=1\n",
    "    if sequence[23663] in {\"t\", 'T'}:\n",
    "        C23664T+=1\n",
    "    if sequence[25562] in {\"t\", 'T'}:\n",
    "        G25563T+=1\n",
    "    if sequence[25903] in {\"t\",'T'}:\n",
    "        C25904T+=1\n",
    "    if sequence[26455] in {\"t\",'T'}:\n",
    "        C26456T+=1\n",
    "    if sequence[28886] in {\"t\",'T'}:\n",
    "        C28887T+=1\n",
    "\n",
    "    \n",
    "    sum=C1059T+G5230T+A10323G+A21801C+G22813T+G23012A+A23063T+C23664T+G25563T+C25904T+C26456T+C28887T\n",
    "    \n",
    "    # check for co-occurence of mutations\n",
    "    SA_mut_list = [('C1059T', C1059T),('G5230T', G5230T),('A10323G', A10323G),('A21801C', A21801C),\n",
    "                   ('G22813T', G22813T),('G23012A', G23012A),('A23063T', A23063T),\n",
    "                   ('C23664T', C23664T),('G25563T', G25563T),('C25904T', C25904T), ('C26456T', C26456T), \n",
    "                   ('C28887T', C28887T)]\n",
    "    list = []\n",
    "    if sum>1:\n",
    "        for mut in SA_mut_list:\n",
    "            if mut[1]>0:\n",
    "                list.append(mut[0])\n",
    "    \n",
    "    dict={'sum': sum,\n",
    "          'co_occ': str(list),\n",
    "          'C1059T':C1059T,\n",
    "          'G5230T':G5230T,\n",
    "          'A10323G':A10323G,\n",
    "          'A21801C':A21801C,\n",
    "          'G22813T':G22813T,\n",
    "          'G23012A':G23012A,\n",
    "          'A23063T':A23063T,\n",
    "          'C23664T':C23664T,\n",
    "          'G25563T':G25563T,\n",
    "          'C25904T':C25904T,\n",
    "          'C26456T':C26456T,\n",
    "          'C28887T':C28887T\n",
    "           }\n",
    "    \n",
    "    return dict "
   ]
  },
  {
   "cell_type": "markdown",
   "metadata": {},
   "source": [
    "### Collect Swiss patient samples from sars_cov_2-ETHZ-database "
   ]
  },
  {
   "cell_type": "code",
   "execution_count": null,
   "metadata": {},
   "outputs": [],
   "source": [
    "import psycopg2\n",
    "db_host = 'id-hdb-psgr-cp61.ethz.ch'\n",
    "db_name = 'sars_cov_2'\n",
    "db_user = input(\"Enter username for database\" + db_name + \":\\n\")\n",
    "db_password = input(\"Enter password for user \" + db_user + \":\\n\")\n",
    "# Connect to database\n",
    "db_connection = \"dbname=\\'\" + db_name + \\\n",
    "                \"\\' user=\\'\" + db_user + \\\n",
    "                \"\\' host=\\'\" + db_host + \\\n",
    "                \"\\' password=\\'\" + db_password + \"\\'\"\n",
    "try:\n",
    "  conn = psycopg2.connect(db_connection)\n",
    "except Exception as e:\n",
    "  raise Exception(\"I am unable to connect to the database.\", e)\n",
    "cursor = conn.cursor()\n",
    "cursor.execute(\"select gs.strain, gs.date, gs.date_str, gs.division, gs.pangolin_lineage, gs.originating_lab, gs.submitting_lab, gs.date_submitted, gs.aligned_seq from gisaid_sequence gs where gs.country ='Switzerland'\")\n",
    "data = cursor.fetchall()\n",
    "cursor.close()\n",
    "\n",
    "conn.close()"
   ]
  },
  {
   "cell_type": "markdown",
   "metadata": {},
   "source": [
    "### Summarize data in dataframe df"
   ]
  },
  {
   "cell_type": "code",
   "execution_count": null,
   "metadata": {},
   "outputs": [],
   "source": [
    "df = pd.DataFrame(data,columns=('strain', 'date', 'date_str', 'division', 'pangolin_lineage', \n",
    "                                     'originating_lab', 'submitting_lab', 'date_submitted', 'aligned_seq'))"
   ]
  },
  {
   "cell_type": "markdown",
   "metadata": {},
   "source": [
    "### Exclude sequences that are already identified as UK- or SA-variant from the analysis"
   ]
  },
  {
   "cell_type": "code",
   "execution_count": null,
   "metadata": {},
   "outputs": [],
   "source": [
    "df = df[df['pangolin_lineage']!='B.1.1.7'] #UK variants \n",
    "df = df[df['pangolin_lineage']!='501.V2'] #SA variants"
   ]
  },
  {
   "cell_type": "markdown",
   "metadata": {},
   "source": [
    "### Analysis is only performed with sequences with sample date before before 24 Dec 2020"
   ]
  },
  {
   "cell_type": "code",
   "execution_count": null,
   "metadata": {},
   "outputs": [],
   "source": [
    "df['date_datetime'] = pd.to_datetime(df['date'])\n",
    "df = df[df['date_datetime']<='2020-12-24']"
   ]
  },
  {
   "cell_type": "markdown",
   "metadata": {},
   "source": [
    "### Number of samples analysed "
   ]
  },
  {
   "cell_type": "code",
   "execution_count": null,
   "metadata": {},
   "outputs": [],
   "source": [
    "df.shape[0]"
   ]
  },
  {
   "cell_type": "markdown",
   "metadata": {},
   "source": [
    "### Prevalence of the signature mutations of the B.1.1.7 lineage summarized in df_UK"
   ]
  },
  {
   "cell_type": "code",
   "execution_count": null,
   "metadata": {},
   "outputs": [],
   "source": [
    "# define the dataframe where we count the observed mutations\n",
    "df_UK = pd.DataFrame(columns=('id','division','date', 'sum','co_occ','n_sample','C3267T', 'C5388A','T6954C', \n",
    "                                  'del_11288_11296', \"del_21765_21770\",'del_21991_21993', 'A23063T',\n",
    "                                  'C23271A','C23604A', 'C23709T','T24506G','G24914C','C27972T',\n",
    "                                  'G28048T', 'A28111G','C28977T','GAT28280CTA', 'A28095T'))\n",
    "\n",
    "# go through each consensus sequence of the clinical samples and check if the mutations are found\n",
    "for index, row in df.iterrows():\n",
    "    info_dict = {'id':row['strain'],'division': row['division'], 'date':row['date'], 'n_sample':1}\n",
    "    mut_dict = count_UK_mutations(row['aligned_seq'])\n",
    "    info_dict.update(mut_dict)\n",
    "    df_UK = df_UK.append(info_dict, ignore_index=True)"
   ]
  },
  {
   "cell_type": "code",
   "execution_count": null,
   "metadata": {},
   "outputs": [],
   "source": [
    "# Sequences with at least one signature mutation\n",
    "df_UK[df_UK['sum']>0]"
   ]
  },
  {
   "cell_type": "markdown",
   "metadata": {},
   "source": [
    "### Prevalence of the UK signature mutations before and after 2020-10-23"
   ]
  },
  {
   "cell_type": "code",
   "execution_count": null,
   "metadata": {},
   "outputs": [],
   "source": [
    "df_UK_freq = pd.DataFrame(columns=('mutation', 'abs_freq', 'relativ_freq'))\n",
    "\n",
    "cut_off_date = '2020-10-23'\n",
    "\n",
    "df_UK['date_datetime'] = pd.to_datetime(df_UK['date'])\n",
    "df_UK_before_oct = df_UK[df_UK['date_datetime']<cut_off_date]\n",
    "df_UK_after_oct = df_UK[df_UK['date_datetime']>=cut_off_date]\n",
    "\n",
    "df_UK_freq_before_oct = pd.DataFrame(columns=('mutation', 'abs_freq', 'relativ_freq'))\n",
    "df_UK_freq_after_oct = pd.DataFrame(columns=('mutation', 'abs_freq', 'relativ_freq'))\n",
    "\n",
    "\n",
    "UK_mut = ['C3267T', 'C5388A','T6954C','del_11288_11296', \"del_21765_21770\",'del_21991_21993', 'A23063T','C23271A',\n",
    "          'C23604A', 'C23709T','T24506G','G24914C','C27972T','G28048T', 'A28111G','C28977T','GAT28280CTA', \n",
    "          'A28095T']\n",
    "\n",
    "for mut in UK_mut:\n",
    "    df_UK_freq =  df_UK_freq.append({'mutation': mut, \n",
    "                                     \"abs_freq\": df_UK[mut].sum(), \n",
    "                                     'relativ_freq': df_UK[mut].sum()/df_UK.shape[0]*100 \n",
    "                                    },ignore_index=True)\n",
    "    df_UK_freq_before_oct =  df_UK_freq_before_oct.append({'mutation': mut, \n",
    "                                                           \"abs_freq\": df_UK_before_oct[mut].sum(), \n",
    "                                                           'relativ_freq': df_UK_before_oct[mut].sum()/df_UK_before_oct.shape[0]*100 \n",
    "                                                          },ignore_index=True)\n",
    "    df_UK_freq_after_oct =  df_UK_freq_after_oct.append({'mutation': mut, \n",
    "                                                         \"abs_freq\": df_UK_after_oct[mut].sum(), \n",
    "                                                         'relativ_freq': df_UK_after_oct[mut].sum()/df_UK_after_oct.shape[0]*100 \n",
    "                                                        },ignore_index=True)\n",
    "    \n",
    "#df_UK_freq.to_csv('df_UK_freq.csv')\n",
    "#df_UK_freq_before_oct.to_csv('df_UK_freq_before_oct.csv')\n",
    "#df_UK_freq_after_oct.to_csv('df_UK_freq_after_oct.csv')"
   ]
  },
  {
   "cell_type": "markdown",
   "metadata": {},
   "source": [
    "### Prevalence of the signature mutations of the 501.V2 lineage summarized in df_SA"
   ]
  },
  {
   "cell_type": "code",
   "execution_count": null,
   "metadata": {},
   "outputs": [],
   "source": [
    "df_SA = pd.DataFrame(columns=('id','division','date', 'sum','co_occ','n_sample','C1059T','G5230T','A10323G','A21801C',\n",
    "                              'G22813T','G23012A','A23063T','C23664T','G25563T','C25904T','C26456T','C28887T'))\n",
    "\n",
    "\n",
    "# go through each consensus sequence of the clinical samples and check if the mutations are found\n",
    "for index, row in df.iterrows():\n",
    "    info_dict = {'id':row['strain'],'division': row['division'], 'date':row['date'], 'n_sample':1}\n",
    "    mut_dict = count_SA_mutations(row['aligned_seq'])\n",
    "    info_dict.update(mut_dict)\n",
    "    df_SA = df_SA.append(info_dict, ignore_index=True)"
   ]
  },
  {
   "cell_type": "code",
   "execution_count": null,
   "metadata": {},
   "outputs": [],
   "source": [
    "# Sequences with at least one signature mutation\n",
    "df_SA[df_SA['sum']>0]"
   ]
  },
  {
   "cell_type": "code",
   "execution_count": null,
   "metadata": {},
   "outputs": [],
   "source": [
    "df_SA_freq = pd.DataFrame(columns=('mutation', 'abs_freq', 'relativ_freq'))\n",
    "\n",
    "cut_off_date = '2020-10-23'\n",
    "\n",
    "df_SA['date_datetime'] = pd.to_datetime(df_SA['date'])\n",
    "df_SA_before_oct = df_SA[df_SA['date_datetime']<cut_off_date]\n",
    "df_SA_after_oct = df_SA[df_SA['date_datetime']>=cut_off_date]\n",
    "\n",
    "df_SA_freq_before_oct = pd.DataFrame(columns=('mutation', 'abs_freq', 'relativ_freq'))\n",
    "df_SA_freq_after_oct = pd.DataFrame(columns=('mutation', 'abs_freq', 'relativ_freq'))\n",
    "\n",
    "\n",
    "SA_mut = ['C1059T','G5230T','A10323G','A21801C','G22813T','G23012A','A23063T','C23664T','G25563T',\n",
    "          'C25904T','C26456T','C28887T']\n",
    "\n",
    "for mut in SA_mut:\n",
    "    df_SA_freq =  df_SA_freq.append({'mutation': mut, \n",
    "                                     \"abs_freq\": df_SA[mut].sum(), \n",
    "                                     'relativ_freq': df_SA[mut].sum()/df_SA.shape[0]*100 \n",
    "                                    },ignore_index=True)\n",
    "    df_SA_freq_before_oct =  df_SA_freq_before_oct.append({'mutation': mut, \n",
    "                                                           \"abs_freq\": df_SA_before_oct[mut].sum(), \n",
    "                                                           'relativ_freq': df_SA_before_oct[mut].sum()/df_SA_before_oct.shape[0]*100 \n",
    "                                                          },ignore_index=True)\n",
    "    df_SA_freq_after_oct =  df_SA_freq_after_oct.append({'mutation': mut, \n",
    "                                                         \"abs_freq\": df_SA_after_oct[mut].sum(), \n",
    "                                                         'relativ_freq': df_SA_after_oct[mut].sum()/df_SA_after_oct.shape[0]*100 \n",
    "                                                        },ignore_index=True)\n",
    "    \n",
    "#df_SA_freq.to_csv('df_SA_freq.csv')\n",
    "#df_SA_freq_before_oct.to_csv('df_SA_freq_before_oct.csv')\n",
    "#df_SA_freq_after_oct.to_csv('df_SA_freq_after_oct.csv')"
   ]
  },
  {
   "cell_type": "markdown",
   "metadata": {},
   "source": [
    "### Grouping the co-occuring mutations together"
   ]
  },
  {
   "cell_type": "code",
   "execution_count": null,
   "metadata": {},
   "outputs": [],
   "source": [
    "df_SA_co_occ = df_SA[df_SA['sum']>1].drop(['C1059T','G5230T','A10323G','A21801C','G22813T','G23012A','A23063T',\n",
    "                           'C23664T','G25563T','C25904T','C26456T','C28887T','id','sum'], axis=1)\n",
    "df_SA_co_occ = df_SA_co_occ.groupby('co_occ').sum()\n",
    "df_SA_co_occ"
   ]
  },
  {
   "cell_type": "code",
   "execution_count": null,
   "metadata": {},
   "outputs": [],
   "source": []
  },
  {
   "cell_type": "code",
   "execution_count": null,
   "metadata": {},
   "outputs": [],
   "source": []
  }
 ],
 "metadata": {
  "kernelspec": {
   "display_name": "Python 3",
   "language": "python",
   "name": "python3"
  },
  "language_info": {
   "codemirror_mode": {
    "name": "ipython",
    "version": 3
   },
   "file_extension": ".py",
   "mimetype": "text/x-python",
   "name": "python",
   "nbconvert_exporter": "python",
   "pygments_lexer": "ipython3",
   "version": "3.6.12"
  }
 },
 "nbformat": 4,
 "nbformat_minor": 4
}
